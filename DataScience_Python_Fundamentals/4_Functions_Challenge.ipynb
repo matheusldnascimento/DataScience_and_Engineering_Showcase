{
 "cells": [
  {
   "cell_type": "markdown",
   "id": "b5783c1e",
   "metadata": {},
   "source": [
    "# Medical Priority Screening Bot"
   ]
  },
  {
   "cell_type": "markdown",
   "id": "bd89968d",
   "metadata": {},
   "source": [
    "As a Python Developer, you have to create a bot to prioritize patients in a Hospital emergency unit according to their answers to a specific set of questions that are given in the resources. This set of questions and the bot you are building follow the Manchester Triage System (in a simplified way).\n",
    "\n",
    "The questions are presented below in a list. It has 15 questions with a clinical priority associated in case of receiving a yes answer. The questions are sorted from the highest to lowest clinical priority. As you can see, the data is structured as a list of dictionaries, where each dictionary represents one question and has the following keys: ‘question’ and (the respective) ‘clinical_priority’.\n",
    "\n",
    "Our goal is to (i) clean the questions, (ii) create a function to do it, (iii) store the questions cleaned and (iv) create the screening bot.\n",
    "\n",
    "In the next cell you have the list with the questions. After it, you have the steps that you should follow to build your bot."
   ]
  },
  {
   "cell_type": "code",
   "execution_count": 48,
   "id": "2014d8ba",
   "metadata": {},
   "outputs": [],
   "source": [
    "form_questions = [\n",
    "      {\n",
    "         \"question\":\"?Do1 you' hav3e s1igns of 4AnY1 MEntal CONFUSION like fe3el lost or caNNo0t SPEAK clearly?\",\n",
    "         \"clinical_priority\":\"immediate\"\n",
    "      },\n",
    "      {\n",
    "         \"question\":\"di1d you HAVE multi1ple C0onvulsions or Have3 fainte3d multi1ple ti1mes!\",\n",
    "         \"clinical_priority\":\"immediate\"\n",
    "      },\n",
    "      {\n",
    "         \"question\":\"do you have any chest pai1n!\",\n",
    "         \"clinical_priority\":\"immediate\"\n",
    "      },\n",
    "      {\n",
    "         \"question\":\"ARe yoU strug3gli1ng to breath\",\n",
    "         \"clinical_priority\":\"immediate\"\n",
    "      },\n",
    "      {\n",
    "         \"question\":\"Do you Have any1 Severe Burns?\",\n",
    "         \"clinical_priority\":\"immediate\"\n",
    "      },\n",
    "      {\n",
    "         \"question\":\"Are youU bleedi1ng from an area larger than three fingers abundantly?\",\n",
    "         \"clinical_priority\":\"very_urgent\"\n",
    "      },\n",
    "      {\n",
    "         \"question\":\"Do you have more than forty degrees?\",\n",
    "         \"clinical_priority\":\"very_urgent\"\n",
    "      },\n",
    "      {\n",
    "         \"question\":\"di1d you HAVE any Convulsion or Have3 fainte3d!\",\n",
    "         \"clinical_priority\":\"very_urgent\"\n",
    "      },\n",
    "      {\n",
    "         \"question\":\"?are yoU bleedi1ng from an are3a SMALLER than three fingers abundantly?\",\n",
    "         \"clinical_priority\":\"urgent\"\n",
    "      },\n",
    "      {\n",
    "         \"question\":\"have3 yoU been vomiting more than five5 times 1in the l1ast ho0ur?\",\n",
    "         \"clinical_priority\":\"urgent\"\n",
    "      },\n",
    "      {\n",
    "         \"question\":\"...Do you have more than 38thirty eight degrEEs?!\",\n",
    "         \"clinical_priority\":\"urgent\"\n",
    "      },\n",
    "      {\n",
    "         \"question\":\"have3 yoU been vomiting less than five5 ti1mes 1in the last hour?\",\n",
    "         \"clinical_priority\":\"routine\"\n",
    "      },\n",
    "      {\n",
    "         \"question\":\"FEEl any pain or proble3m that beEcome MORE intense 1IN the last WEEK!\",\n",
    "         \"clinical_priority\":\"routine\"\n",
    "      },\n",
    "      {\n",
    "         \"question\":\"D0o yoU fee1l febri1le BUT have less thaN Thirt1y30 eight8 degrEEs?\",\n",
    "         \"clinical_priority\":\"routine\"\n",
    "      },\n",
    "      {\n",
    "         \"question\":\"fe8el any pai1n that be3come MORE inTENse 1in the 1last wEEk\",\n",
    "         \"clinical_priority\":\"routine\"\n",
    "      }\n",
    "   ]"
   ]
  },
  {
   "cell_type": "markdown",
   "id": "2e10a63e",
   "metadata": {},
   "source": [
    "## 1. **Cleaning the questions**\n",
    "\n",
    "After analysing the list, you realized the original questions have some typos that you need to correct.\n",
    "\n",
    "Here is an example of the orginal state of a question: `\"?Do1 you' hav3e s1igns of 4AnY1 MEntal CONFUSION like fe3el lost or caNNo0t SPEAK clearly?!\"`\n",
    "\n",
    "But in fact, what you want is this: `Do you have signs of any mental confusion like feel lost or cannot speak clearly?`\n",
    "\n",
    "For that you can make some string manipulation and remove all the unnecessary characters.\n",
    "\n",
    "Thus, you need to write a script that:\n",
    "\n",
    "1. Clean any given string, transforming it into a lowercase string with only alphabetical characters (a-z) and spaces (\" \").\n",
    "Find some tips on [str alphabetical](https://stackoverflow.com/questions/15558392/how-can-i-check-if-character-in-a-string-is-a-letter-python), [str lowercase](https://stackoverflow.com/questions/6797984/how-do-i-lowercase-a-string-in-python) and consider using the [isalpha() method](https://www.w3schools.com/python/ref_string_isalpha.asp)\n",
    "\n",
    "2. Add a question mark to the end of each question and transform the first character to capital.\n",
    "\n",
    "Test it with the example presented above."
   ]
  },
  {
   "cell_type": "code",
   "execution_count": 49,
   "id": "53d1c060",
   "metadata": {},
   "outputs": [
    {
     "name": "stdout",
     "output_type": "stream",
     "text": [
      "Do you have signs of any mental confusion like feel lost or cannot speak clearly?\n"
     ]
    }
   ],
   "source": [
    "a = \"?Do1 you' hav3e s1igns of 4AnY1 MEntal CONFUSION like fe3el lost or caNNo0t SPEAK clearly?!\"\n",
    "a_cleaned=\"\"\n",
    "\n",
    "for char in a:\n",
    "    if char.isalpha() or char==' ':\n",
    "        a_cleaned += char.lower()\n",
    "        \n",
    "a_cleaned = a_cleaned[0].upper() + a_cleaned[1:] + '?'\n",
    "print(a_cleaned)"
   ]
  },
  {
   "cell_type": "markdown",
   "id": "c63e8c5b",
   "metadata": {},
   "source": [
    "## 2. Create a function to clean the questions\n",
    "\n",
    "Using the code you wrote in the previous step, create a function that receives a \"dirty\" question and return the same question cleaned.\n",
    "    \n",
    "    Example:\n",
    "\n",
    "    clean_question(\"?Do1 you' hav3e s1igns of 4AnY1 MEntal CONFUSION like fe3el lost or caNNo0t SPEAK clearly?!\")\n",
    "    >> \"Do you have signs of any mental confusion like feel lost or cannot speak clearly?\""
   ]
  },
  {
   "cell_type": "code",
   "execution_count": 50,
   "id": "c66e6b5c",
   "metadata": {},
   "outputs": [
    {
     "data": {
      "text/plain": [
       "'Do you have signs of any mental confusion like feel lost or cannot speak clearly?'"
      ]
     },
     "execution_count": 50,
     "metadata": {},
     "output_type": "execute_result"
    }
   ],
   "source": [
    "def clean_question(a):\n",
    "    a_cleaned=\"\"\n",
    "    for char in a:\n",
    "        if char.isalpha() or char==' ':\n",
    "            a_cleaned += char.lower()\n",
    "    \n",
    "    a_cleaned = a_cleaned[0].upper() + a_cleaned[1:] + '?'\n",
    "    \n",
    "    return a_cleaned\n",
    "\n",
    "clean_question(\"?Do1 you' hav3e s1igns of 4AnY1 MEntal CONFUSION like fe3el lost or caNNo0t SPEAK clearly?!\")"
   ]
  },
  {
   "cell_type": "markdown",
   "id": "7b292e56",
   "metadata": {},
   "source": [
    "## 3. Storing cleaned questions\n",
    "\n",
    "Now we want to store the cleaned questions so that we can use it later when performing the patient screening. Thus, you should create a function with the following requirements:\n",
    "\n",
    "- accepts one list as argument (corresponding to list of dictionaries, like the one presented on top of the notebook)\n",
    "- to each dictionary corresponding to a question, add a key, where the value is the cleaned question.\n",
    "- return the updated list of dicts.\n",
    "\n",
    "After that, using the `form_questions` list presented above, run the function on it and store the result into a variable.\n",
    "\n",
    "This is an example of the output with some questions (with the original ‘question’ and ‘question_cleaned’ that results from the preprocessing function).\n",
    "\n",
    "```\n",
    "[\n",
    "    {\n",
    "      'question': \"?Do1 you' hav3e s1igns of 4AnY1 MEntal CONFUSION like fe3el lost or caNNo0t SPEAK clearly)?!\",\n",
    "      'clinical_priority': 'immediate',\n",
    "      'question_cleaned': 'Do you have signs of any mental confusion like feel lost or cannot speak clearly?'\n",
    "    },\n",
    "    {\n",
    "      'question': 'do you have any chest pai1n!',\n",
    "      'clinical_priority': 'immediate',\n",
    "      'question_cleaned': 'Do you have any chest pain?'\n",
    "    }\n",
    "]\n",
    "```"
   ]
  },
  {
   "cell_type": "markdown",
   "id": "cd39eaed",
   "metadata": {},
   "source": [
    "**Solution**"
   ]
  },
  {
   "cell_type": "code",
   "execution_count": 51,
   "id": "1d91462a",
   "metadata": {},
   "outputs": [],
   "source": [
    "import copy # we are importing copy and use deepcopy() method"
   ]
  },
  {
   "cell_type": "markdown",
   "id": "67ad7630",
   "metadata": {},
   "source": [
    "Brief explanation: *In short, when you copy() a dictionary, you're only copying the pointers to the items in the dictionary. Thus when you change the values in one dictionary, since the pointers are the same in both, the change shows up immediately in the other. By performing a deepcopy(), you're copying the values from one dictionary to another and after it you have two separate copies. Note: in this problem, you only need this if you need the original list of dictionaries, without any change. You didn't need this to complete the exercise but it's a good practice as we've seen before.*"
   ]
  },
  {
   "cell_type": "code",
   "execution_count": 52,
   "id": "86cc920a",
   "metadata": {},
   "outputs": [
    {
     "data": {
      "text/plain": [
       "[{'question': \"?Do1 you' hav3e s1igns of 4AnY1 MEntal CONFUSION like fe3el lost or caNNo0t SPEAK clearly?\",\n",
       "  'clinical_priority': 'immediate',\n",
       "  'question_cleaned': 'Do you have signs of any mental confusion like feel lost or cannot speak clearly?'},\n",
       " {'question': 'di1d you HAVE multi1ple C0onvulsions or Have3 fainte3d multi1ple ti1mes!',\n",
       "  'clinical_priority': 'immediate',\n",
       "  'question_cleaned': 'Did you have multiple convulsions or have fainted multiple times?'},\n",
       " {'question': 'do you have any chest pai1n!',\n",
       "  'clinical_priority': 'immediate',\n",
       "  'question_cleaned': 'Do you have any chest pain?'},\n",
       " {'question': 'ARe yoU strug3gli1ng to breath',\n",
       "  'clinical_priority': 'immediate',\n",
       "  'question_cleaned': 'Are you struggling to breath?'},\n",
       " {'question': 'Do you Have any1 Severe Burns?',\n",
       "  'clinical_priority': 'immediate',\n",
       "  'question_cleaned': 'Do you have any severe burns?'},\n",
       " {'question': 'Are youU bleedi1ng from an area larger than three fingers abundantly?',\n",
       "  'clinical_priority': 'very_urgent',\n",
       "  'question_cleaned': 'Are youu bleeding from an area larger than three fingers abundantly?'},\n",
       " {'question': 'Do you have more than forty degrees?',\n",
       "  'clinical_priority': 'very_urgent',\n",
       "  'question_cleaned': 'Do you have more than forty degrees?'},\n",
       " {'question': 'di1d you HAVE any Convulsion or Have3 fainte3d!',\n",
       "  'clinical_priority': 'very_urgent',\n",
       "  'question_cleaned': 'Did you have any convulsion or have fainted?'},\n",
       " {'question': '?are yoU bleedi1ng from an are3a SMALLER than three fingers abundantly?',\n",
       "  'clinical_priority': 'urgent',\n",
       "  'question_cleaned': 'Are you bleeding from an area smaller than three fingers abundantly?'},\n",
       " {'question': 'have3 yoU been vomiting more than five5 times 1in the l1ast ho0ur?',\n",
       "  'clinical_priority': 'urgent',\n",
       "  'question_cleaned': 'Have you been vomiting more than five times in the last hour?'},\n",
       " {'question': '...Do you have more than 38thirty eight degrEEs?!',\n",
       "  'clinical_priority': 'urgent',\n",
       "  'question_cleaned': 'Do you have more than thirty eight degrees?'},\n",
       " {'question': 'have3 yoU been vomiting less than five5 ti1mes 1in the last hour?',\n",
       "  'clinical_priority': 'routine',\n",
       "  'question_cleaned': 'Have you been vomiting less than five times in the last hour?'},\n",
       " {'question': 'FEEl any pain or proble3m that beEcome MORE intense 1IN the last WEEK!',\n",
       "  'clinical_priority': 'routine',\n",
       "  'question_cleaned': 'Feel any pain or problem that beecome more intense in the last week?'},\n",
       " {'question': 'D0o yoU fee1l febri1le BUT have less thaN Thirt1y30 eight8 degrEEs?',\n",
       "  'clinical_priority': 'routine',\n",
       "  'question_cleaned': 'Do you feel febrile but have less than thirty eight degrees?'},\n",
       " {'question': 'fe8el any pai1n that be3come MORE inTENse 1in the 1last wEEk',\n",
       "  'clinical_priority': 'routine',\n",
       "  'question_cleaned': 'Feel any pain that become more intense in the last week?'}]"
      ]
     },
     "execution_count": 52,
     "metadata": {},
     "output_type": "execute_result"
    }
   ],
   "source": [
    "# define function to clean and store questions\n",
    "def store_clean_questions(questions_original):\n",
    "    questions_list = copy.deepcopy(questions_original) # read the explanation above\n",
    "    for question_dict in questions_list:\n",
    "        question_dict['question_cleaned'] = clean_question(question_dict['question'])\n",
    "        \n",
    "    return questions_list\n",
    "\n",
    "questions = store_clean_questions(form_questions)\n",
    "\n",
    "questions"
   ]
  },
  {
   "cell_type": "markdown",
   "id": "21720f15",
   "metadata": {},
   "source": [
    "## 4. Building the Screening bot\n",
    "\n",
    "Now it's time to build the Health Screening bot and allow the patients to use it in the first contact at the hospital. The bot should ask the user to answer only with 1 (if the answer is yes) or 0 (no).\n",
    "\n",
    "As the medical questions are ordered by clinical priority, when a patient answers “1” (yes) to a question, it should stop the script and indicate to the user the bracelet colour, associated to the clinical priority of the question answered as yes.\n",
    "\n",
    "Remember that in case all the questions are answered with no, the script should indicate the clinical priority as ‘non-urgent’.\n",
    "\n",
    "Below you can find the colours associated to each one of the clinical priorities.\n",
    "\n",
    "```python\n",
    "bracelet_color = {\n",
    "    \"immediate\": 'red',\n",
    "    \"very_urgent\": 'orange',\n",
    "    \"urgent\": 'yellow',\n",
    "    \"routine\": 'green',\n",
    "    \"non-urgent\": 'blue'\n",
    "}\n",
    "```\n",
    "\n",
    "Remember to use the function you created before to clean the triage questions coming from the list ‘form_questions’, presented in the beggining of the notebook."
   ]
  },
  {
   "cell_type": "code",
   "execution_count": 53,
   "id": "aaee1c94",
   "metadata": {},
   "outputs": [],
   "source": [
    "bracelet_color = {\n",
    "    \"immediate\": 'red',\n",
    "    \"very_urgent\": 'orange',\n",
    "    \"urgent\": 'yellow',\n",
    "    \"routine\": 'green',\n",
    "    \"non-urgent\": 'blue'\n",
    "}"
   ]
  },
  {
   "cell_type": "code",
   "execution_count": 54,
   "id": "e82ab27b",
   "metadata": {
    "scrolled": true
   },
   "outputs": [
    {
     "name": "stdout",
     "output_type": "stream",
     "text": [
      "\n",
      "Please answer to the following questions by pressing 1 (if the answer is yes) or 0 (no).\n",
      "\n",
      "Do you have signs of any mental confusion like feel lost or cannot speak clearly?0\n",
      "Did you have multiple convulsions or have fainted multiple times?0\n",
      "Do you have any chest pain?0\n",
      "Are you struggling to breath?0\n",
      "Do you have any severe burns?1\n",
      "\n",
      "Thank you! Please take your RED bracelet!\n"
     ]
    }
   ],
   "source": [
    "questions = store_clean_questions(form_questions)\n",
    "        \n",
    "print('\\nPlease answer to the following questions by pressing 1 (if the answer is yes) or 0 (no).\\n')\n",
    "\n",
    "for question_dict in questions:\n",
    "    answer = input(question_dict['question_cleaned'])\n",
    "    if int(answer) == 1:\n",
    "        patient_priority = question_dict['clinical_priority']\n",
    "        break\n",
    "\n",
    "if int(answer) == 0:\n",
    "    patient_priority = \"non-urgent\"\n",
    "\n",
    "print(f'\\nThank you! Please take your {bracelet_color[patient_priority].upper()} bracelet!')"
   ]
  },
  {
   "cell_type": "markdown",
   "id": "5366254f",
   "metadata": {},
   "source": [
    "# EXTRA QUESTION"
   ]
  },
  {
   "cell_type": "markdown",
   "id": "3e41cca4",
   "metadata": {},
   "source": [
    "## 5. Storing and cleaning the patients answers\n",
    "\n",
    "\n",
    "After having the Screnning bot working, it should save the user answers into a dictionary to be sent to the doctor that will receive the patient in the phase of the emergency unit process. Make sure that each key takes the question (already preprocessed and cleaned) and the respective value is the answer of the patient. Add the clinical priority of the patient.\n",
    "\n",
    "Below you can find an example of the expected dictionary\n",
    "\n",
    "```python\n",
    "{'Do you have signs of any mental confusion like feel lost or cannot speak clearly?': '0',\n",
    " 'Did you have multiple convulsions or have fainted multiple times?': '0',\n",
    " 'Do you have any chest pain?': '0',\n",
    " 'Are you struggling to breath?': '1',\n",
    " 'medical_priority': 'immediate'}\n",
    "```\n",
    "\n",
    "After having it, you should treat the data and replace the ‘0’ and ‘1’ answers, respectively, by ‘No’ and ‘Yes’. Below you can find an example of the expected output:\n",
    "\n",
    "```python\n",
    "{'Do you have signs of any mental confusion like feel lost or cannot speak clearly?': 'No',\n",
    " 'Did you have multiple convulsions or have fainted multiple times?': 'No',\n",
    " 'Do you have any chest pain?': 'No',\n",
    " 'Are you struggling to breath?': 'Yes',\n",
    " 'medical_priority': 'immediate'}\n",
    "```"
   ]
  },
  {
   "cell_type": "code",
   "execution_count": 57,
   "id": "f4ce33f5",
   "metadata": {},
   "outputs": [
    {
     "name": "stdout",
     "output_type": "stream",
     "text": [
      "\n",
      "Please answer to the following questions by pressing 1 (if the answer is yes) or 0 (no).\n",
      "\n",
      "Do you have signs of any mental confusion like feel lost or cannot speak clearly?0\n",
      "Did you have multiple convulsions or have fainted multiple times?0\n",
      "Do you have any chest pain?0\n",
      "Are you struggling to breath?0\n",
      "Do you have any severe burns?1\n",
      "\n",
      "Thank you! Please take your RED bracelet!\n",
      "{'Do you have signs of any mental confusion like feel lost or cannot speak clearly?': '0', 'Did you have multiple convulsions or have fainted multiple times?': '0', 'Do you have any chest pain?': '0', 'Are you struggling to breath?': '0', 'Do you have any severe burns?': '1', 'medical_priority': 'immediate'}\n"
     ]
    }
   ],
   "source": [
    "questions = store_clean_questions(form_questions)\n",
    "user_dict = {}\n",
    "        \n",
    "print('\\nPlease answer to the following questions by pressing 1 (if the answer is yes) or 0 (no).\\n')\n",
    "\n",
    "for question_dict in questions:\n",
    "    answer = input(question_dict['question_cleaned'])\n",
    "    user_dict[question_dict['question_cleaned']] = answer\n",
    "    if int(answer) == 1:\n",
    "        patient_priority = question_dict['clinical_priority']\n",
    "        user_dict['medical_priority'] = patient_priority\n",
    "        break\n",
    "\n",
    "if int(answer) == 0:\n",
    "    patient_priority = \"non-urgent\"\n",
    "    user_dict['medical_priority'] = patient_priority\n",
    "\n",
    "print(f'\\nThank you! Please take your {bracelet_color[patient_priority].upper()} bracelet!')\n",
    "\n",
    "print(user_dict)"
   ]
  },
  {
   "cell_type": "code",
   "execution_count": 58,
   "id": "a777cf02",
   "metadata": {},
   "outputs": [
    {
     "data": {
      "text/plain": [
       "{'Do you have signs of any mental confusion like feel lost or cannot speak clearly?': 'No',\n",
       " 'Did you have multiple convulsions or have fainted multiple times?': 'No',\n",
       " 'Do you have any chest pain?': 'No',\n",
       " 'Are you struggling to breath?': 'No',\n",
       " 'Do you have any severe burns?': 'Yes',\n",
       " 'medical_priority': 'immediate'}"
      ]
     },
     "execution_count": 58,
     "metadata": {},
     "output_type": "execute_result"
    }
   ],
   "source": [
    "for data in user_dict:\n",
    "    if user_dict[data] == '0':\n",
    "        user_dict[data] = 'No'\n",
    "    elif user_dict[data] == '1':\n",
    "        user_dict[data] = 'Yes'\n",
    "        \n",
    "user_dict"
   ]
  }
 ],
 "metadata": {
  "kernelspec": {
   "display_name": "Python 3",
   "language": "python",
   "name": "python3"
  },
  "language_info": {
   "codemirror_mode": {
    "name": "ipython",
    "version": 3
   },
   "file_extension": ".py",
   "mimetype": "text/x-python",
   "name": "python",
   "nbconvert_exporter": "python",
   "pygments_lexer": "ipython3",
   "version": "3.8.8"
  }
 },
 "nbformat": 4,
 "nbformat_minor": 5
}
