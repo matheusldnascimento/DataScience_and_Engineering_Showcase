{
 "cells": [
  {
   "cell_type": "markdown",
   "metadata": {},
   "source": [
    "# Flow control"
   ]
  },
  {
   "cell_type": "markdown",
   "metadata": {
    "heading_collapsed": true
   },
   "source": [
    "# Exercises - If strcuture"
   ]
  },
  {
   "cell_type": "markdown",
   "metadata": {
    "hidden": true
   },
   "source": [
    "### 1. Traffic lights\n",
    "Create a program that based on a traffic light (green, yellow, red), define the action that a driver can take (go, be careful, stop)"
   ]
  },
  {
   "cell_type": "code",
   "execution_count": 1,
   "metadata": {
    "hidden": true
   },
   "outputs": [
    {
     "name": "stdout",
     "output_type": "stream",
     "text": [
      "go\n"
     ]
    }
   ],
   "source": [
    "# code here\n",
    "light = 'green'\n",
    "\n",
    "if light == 'green':\n",
    "    action = 'go'\n",
    "elif light == 'yellow':\n",
    "    action = 'be careful'\n",
    "elif light == 'red':\n",
    "    action = 'stop'\n",
    "else:\n",
    "    action = None\n",
    "    \n",
    "print(action)"
   ]
  },
  {
   "cell_type": "markdown",
   "metadata": {
    "hidden": true
   },
   "source": [
    "### 2. Cinema tickets\n",
    "\n",
    "Based on the following variables: \n",
    "- age = 21\n",
    "- is_student = True\n",
    "- day_of_week = \"Wednesday\"\n",
    "- full_price = 10.00\n",
    "\n",
    "What is the answer of the following code?\n",
    "\n",
    "```python\n",
    "if is_student and age < 18:\n",
    "    ticket_price = full_price / 2\n",
    "elif is_student and age >= 18:\n",
    "    ticket_price = full_price * 3 / 4\n",
    "elif day_of_week == \"Monday\":\n",
    "    ticket_price = full_price * 2 / 3   \n",
    "else:\n",
    "    ticket_price = full_price\n",
    "    \n",
    "print(ticket_price)\n",
    "```"
   ]
  },
  {
   "cell_type": "markdown",
   "metadata": {
    "hidden": true
   },
   "source": [
    "**Answer:**"
   ]
  },
  {
   "cell_type": "markdown",
   "metadata": {
    "hidden": true
   },
   "source": [
    "`7.50` (that comes from \"full_price * 3 / 4\")"
   ]
  },
  {
   "cell_type": "markdown",
   "metadata": {
    "hidden": true
   },
   "source": [
    "### 3. Shopping\n",
    "Given the following code:\n",
    "\n",
    "```python\n",
    "groceries = {\"eggs\": 3, \"milk\": 4, \"tomatoes\": 4, \"soaps\": 1, \"carrots\": 6}\n",
    "budget = 10\n",
    "\n",
    "if len(groceries) > 4:\n",
    "    if groceries[\"eggs\"] > 6 and groceries[\"milk\"] > 2:\n",
    "        budget = 12\n",
    "    elif groceries[\"tomatoes\"] <= 2 or groceries[\"carrots\"] < 3:\n",
    "        budget = 32\n",
    "    elif groceries[\"soaps\"] < 4 or groceries[\"eggs\"] > 6:\n",
    "        budget = 40\n",
    "    else:\n",
    "        budget = 18\n",
    "else:\n",
    "    if groceries[\"eggs\"] < 6 and groceries[\"milk\"] <= 4:\n",
    "        budget = 6\n",
    "    elif groceries[\"tomatoes\"] < 2 or groceries[\"carrots\"] < 3:\n",
    "        budget = 4\n",
    "    else:\n",
    "        budget = 8\n",
    "```\n",
    "        \n",
    "What is the value of the variable budget?"
   ]
  },
  {
   "cell_type": "markdown",
   "metadata": {
    "hidden": true
   },
   "source": [
    "**Answer:**"
   ]
  },
  {
   "cell_type": "markdown",
   "metadata": {
    "hidden": true
   },
   "source": [
    "budget = 40"
   ]
  },
  {
   "cell_type": "markdown",
   "metadata": {
    "hidden": true
   },
   "source": [
    "### 4. Rock Paper Scissors"
   ]
  },
  {
   "cell_type": "markdown",
   "metadata": {
    "hidden": true
   },
   "source": [
    "#### 4.1.\n",
    "\n",
    "Build an engine to play Rock Paper Scissors with you and gamble that! You have an initial balance of 1000€ and you will bet a variable amount every time you bet against the machine. A few things you need to know: \n",
    "\n",
    "* You will always play `paper` but this should be a variable - `my_choice = \"paper\"`\n",
    "* You place a bet of 10€\n",
    "* The computer will randomly choose rock, paper or scissors\n",
    "* In case you win, you earn a value equal to the bet amount; if you lose or tie, you lose what you've bet.\n",
    "* Update your balance accordingly"
   ]
  },
  {
   "cell_type": "code",
   "execution_count": 2,
   "metadata": {
    "hidden": true
   },
   "outputs": [
    {
     "name": "stdout",
     "output_type": "stream",
     "text": [
      "scissors 990\n"
     ]
    }
   ],
   "source": [
    "import random\n",
    "\n",
    "balance = 1000\n",
    "my_choice = \"paper\"\n",
    "bet_amount = 10\n",
    "\n",
    "computer_choice = random.choice([\"rock\", \"paper\", \"scissors\"])\n",
    "if computer_choice == \"rock\":\n",
    "    balance = balance + bet_amount\n",
    "elif computer_choice != \"rock\":\n",
    "    balance = balance - bet_amount\n",
    "\n",
    "print(computer_choice, balance)"
   ]
  },
  {
   "cell_type": "markdown",
   "metadata": {
    "hidden": true
   },
   "source": [
    "#### 4.2.\n",
    "\n",
    "The casino implemented new rules for the game: \n",
    "\n",
    "* if you win you win three times your bet amount\n",
    "* if you lose, you lose the amount you bet\n",
    "* In a case of tie, you lose 100 (it's a broken casino!!!)\n",
    "\n",
    "Make the previous code work for these new rules."
   ]
  },
  {
   "cell_type": "code",
   "execution_count": 3,
   "metadata": {
    "hidden": true
   },
   "outputs": [
    {
     "name": "stdout",
     "output_type": "stream",
     "text": [
      "scissors 990\n"
     ]
    }
   ],
   "source": [
    "import random\n",
    "\n",
    "balance = 1000\n",
    "my_choice = \"paper\"\n",
    "bet_amount = 10\n",
    "\n",
    "computer_choice = random.choice([\"rock\", \"paper\", \"scissors\"])\n",
    "if computer_choice == my_choice:\n",
    "    balance = balance - 100\n",
    "elif computer_choice == \"rock\":\n",
    "    balance = balance + 3 * bet_amount\n",
    "elif computer_choice == \"scissors\":\n",
    "    balance = balance - bet_amount\n",
    "\n",
    "print(computer_choice, balance)"
   ]
  },
  {
   "cell_type": "markdown",
   "metadata": {
    "heading_collapsed": true
   },
   "source": [
    "# Exercises - for loop"
   ]
  },
  {
   "cell_type": "markdown",
   "metadata": {
    "hidden": true
   },
   "source": [
    "## Exercise 1\n",
    "\n",
    "Calculate the sum of all positive integers until 100 (1 + 2 + 3 +...+ 100)."
   ]
  },
  {
   "cell_type": "code",
   "execution_count": 4,
   "metadata": {
    "hidden": true
   },
   "outputs": [
    {
     "name": "stdout",
     "output_type": "stream",
     "text": [
      "5050\n"
     ]
    }
   ],
   "source": [
    "sum_value = 0\n",
    "for i in range(1,101):\n",
    "    sum_value += i\n",
    "\n",
    "print(sum_value)"
   ]
  },
  {
   "cell_type": "markdown",
   "metadata": {
    "hidden": true
   },
   "source": [
    "## Exercise 2"
   ]
  },
  {
   "cell_type": "markdown",
   "metadata": {
    "hidden": true
   },
   "source": [
    "Using a for loop, create a list that has the elements of the list `numbers` squared.\n",
    "\n",
    "```python\n",
    "numbers = [1, 2, 5, 10, 100, 150, 5000, 20000]\n",
    "```"
   ]
  },
  {
   "cell_type": "code",
   "execution_count": 5,
   "metadata": {
    "hidden": true
   },
   "outputs": [
    {
     "name": "stdout",
     "output_type": "stream",
     "text": [
      "[1, 4, 25, 100, 10000, 22500, 25000000, 400000000]\n"
     ]
    }
   ],
   "source": [
    "numbers = [1, 2, 5, 10, 100, 150, 5000, 20000]\n",
    "numbers_squared = []\n",
    "for element in numbers:\n",
    "    numbers_squared.append(element ** 2)\n",
    "    \n",
    "print(numbers_squared)"
   ]
  },
  {
   "cell_type": "markdown",
   "metadata": {
    "hidden": true
   },
   "source": [
    "## Exercise 3\n",
    "\n",
    "Consider the following lists: \n",
    "\n",
    "`list_1 = [1, 2, 3, 4, 5]`\n",
    "\n",
    "`list_2 = [3, 4, 5, 6, 7]`\n",
    "\n",
    "Using a for loop, get all the elements that are on list_1 but not on list_2."
   ]
  },
  {
   "cell_type": "code",
   "execution_count": 6,
   "metadata": {
    "hidden": true
   },
   "outputs": [],
   "source": [
    "list_1 = [1, 2, 3, 4, 5]\n",
    "list_2 = [3, 4, 5, 6, 7]"
   ]
  },
  {
   "cell_type": "code",
   "execution_count": 7,
   "metadata": {
    "hidden": true
   },
   "outputs": [
    {
     "data": {
      "text/plain": [
       "[1, 2]"
      ]
     },
     "execution_count": 7,
     "metadata": {},
     "output_type": "execute_result"
    }
   ],
   "source": [
    "# create list 3\n",
    "list_3 = []\n",
    "# iterate over list_1\n",
    "for num in list_1:\n",
    "    if num not in list_2:\n",
    "        list_3.append(num)\n",
    "    # check if the each value of list_1 is inside list 2\n",
    "        # if its not -> append to list_3\n",
    "list_3"
   ]
  },
  {
   "cell_type": "markdown",
   "metadata": {
    "heading_collapsed": true
   },
   "source": [
    "# Exercises - while loops"
   ]
  },
  {
   "cell_type": "markdown",
   "metadata": {
    "hidden": true
   },
   "source": [
    "## Exercise 1\n",
    "\n",
    "Convert the following while loop in a for loop:\n",
    "\n",
    "`i = 0\n",
    "l = [1, 2, 3, 4, 5]\n",
    "r = []`\n",
    "\n",
    "`while i < 5:\n",
    "    r.append(l[i] ** 2)\n",
    "    i += 1`"
   ]
  },
  {
   "cell_type": "code",
   "execution_count": 8,
   "metadata": {
    "hidden": true
   },
   "outputs": [
    {
     "name": "stdout",
     "output_type": "stream",
     "text": [
      "[1, 4, 9, 16, 25]\n"
     ]
    }
   ],
   "source": [
    "new_list = []\n",
    "l = [1, 2, 3, 4, 5]\n",
    "for i in l:\n",
    "    new_list.append(i**2)\n",
    "    \n",
    "print(new_list)"
   ]
  },
  {
   "cell_type": "markdown",
   "metadata": {
    "hidden": true
   },
   "source": [
    "## Exercise 2. Rock Paper Scissors\n",
    "\n",
    "Build an engine to play Rock Paper Scissors with you and gamble that! You have an initial balance of 1000€ and you will bet a variable amount every time you bet against the casino. A few things you need to know: \n",
    "\n",
    "* You will always play `paper` but this should be a variable - `my_choice = \"paper\"`\n",
    "* Every round you will randomly place a bet between 10€ and 20€\n",
    "* The computer will randomly choose rock paper scissors\n",
    "* Keep track of every round result (\"win\", \"lose\" or \"tie\") - for this you can create a list and append the result of the round.\n",
    "* At the end, print the result with how many rounds you played and your final balance\n",
    "* Update your balance accordingly\n",
    "\n",
    "##### Rules of the game\n",
    "* If you lose, you lose twice your bet amount.\n",
    "* If you win, you win three times your bet amount\n",
    "* In a case of tie, you lose 100 (it's a broken casino!!!) \n",
    "\n",
    "You will play this game under the \"go big or go home\" moto. Here are the conditions: \n",
    "* Play while you have more than 100€ \n",
    "* Play until you double your balance (2000€) "
   ]
  },
  {
   "cell_type": "code",
   "execution_count": 9,
   "metadata": {
    "hidden": true
   },
   "outputs": [
    {
     "name": "stdout",
     "output_type": "stream",
     "text": [
      "Final balance is: 86\n"
     ]
    }
   ],
   "source": [
    "import random\n",
    "\n",
    "balance = 1000\n",
    "my_choice = \"paper\"\n",
    "results = []\n",
    "while balance > 100 and balance < 2000: \n",
    "    bet_amount = random.choice(range(10, 21))\n",
    "    computer_choice = random.choice([\"rock\", \"paper\", \"scissors\"])\n",
    "    if computer_choice == my_choice:\n",
    "        balance = balance - 100\n",
    "        results.append(\"tie\")\n",
    "    elif computer_choice == \"rock\":\n",
    "        balance = balance + 3 * bet_amount\n",
    "        results.append(\"win\")\n",
    "    elif computer_choice == \"scissors\":\n",
    "        balance = balance + 2 * bet_amount\n",
    "        results.append(\"lose\")\n",
    "\n",
    "print('Final balance is:', balance)"
   ]
  },
  {
   "cell_type": "markdown",
   "metadata": {
    "heading_collapsed": true
   },
   "source": [
    "# Exercises - Loop in dictionaries"
   ]
  },
  {
   "cell_type": "markdown",
   "metadata": {
    "heading_collapsed": true,
    "hidden": true
   },
   "source": [
    "## Exercise 1\n",
    "\n",
    "Based on the following dictionary, for each key-value pair, get a string with following format: '1 is \"one\", and could be 1.0’.\n",
    "\n",
    "d = {1: 'one', 2: 'two', 3: 'three', 4: 'four'}"
   ]
  },
  {
   "cell_type": "code",
   "execution_count": 10,
   "metadata": {
    "hidden": true
   },
   "outputs": [],
   "source": [
    "d = {1: 'one', 2: 'two', 3: 'three', 4: 'four'}"
   ]
  },
  {
   "cell_type": "code",
   "execution_count": 11,
   "metadata": {
    "hidden": true,
    "scrolled": true
   },
   "outputs": [
    {
     "name": "stdout",
     "output_type": "stream",
     "text": [
      "1 is \"one\", and could be 1.0\n",
      "2 is \"two\", and could be 2.0\n",
      "3 is \"three\", and could be 3.0\n",
      "4 is \"four\", and could be 4.0\n"
     ]
    }
   ],
   "source": [
    "for chave in d:\n",
    "    print(f'{chave} is \"{d[chave]}\", and could be {float(chave)}')"
   ]
  },
  {
   "cell_type": "code",
   "execution_count": 12,
   "metadata": {
    "hidden": true,
    "scrolled": true
   },
   "outputs": [
    {
     "name": "stdout",
     "output_type": "stream",
     "text": [
      "1 is \"one\", and could be 1.0\n",
      "2 is \"two\", and could be 2.0\n",
      "3 is \"three\", and could be 3.0\n",
      "4 is \"four\", and could be 4.0\n"
     ]
    }
   ],
   "source": [
    "for chave, valor in d.items():\n",
    "    print(f'{chave} is \"{valor}\", and could be {float(chave)}')"
   ]
  },
  {
   "cell_type": "markdown",
   "metadata": {
    "heading_collapsed": true,
    "hidden": true
   },
   "source": [
    "## Exercise 2\n",
    "\n",
    "Create 3 data structures:\n",
    "\n",
    "- A tuple that contains the numbers 10, 20, 30\n",
    "- A list that contains the numbers 40, 50, 60\n",
    "- A dictionary that maps:\n",
    "\n",
    "    - The string ‘TSLA’ to 100\n",
    "    - The string ‘GOOG’ to 90\n",
    "    - The string ‘FB’ to 80\n",
    "\n",
    "Write 3 different loops (one for each data structure) that prints the values contained in the data structure one at a time"
   ]
  },
  {
   "cell_type": "code",
   "execution_count": 13,
   "metadata": {
    "hidden": true,
    "scrolled": true
   },
   "outputs": [
    {
     "name": "stdout",
     "output_type": "stream",
     "text": [
      "10\n",
      "20\n",
      "30\n",
      "40\n",
      "50\n",
      "60\n",
      "TSLA\n",
      "GOOG\n",
      "FB\n",
      "100\n",
      "90\n",
      "80\n",
      "TSLA 100\n",
      "GOOG 90\n",
      "FB 80\n"
     ]
    }
   ],
   "source": [
    "t = (10,20,30)\n",
    "l = [40,50,60]\n",
    "d = {'TSLA':100,'GOOG':90,'FB':80}\n",
    "\n",
    "# iterate through a list or a tuple\n",
    "for element in t:\n",
    "    print(element)\n",
    "    \n",
    "for element in l:\n",
    "    print(element)\n",
    "    \n",
    "# iterate through a dictionary\n",
    "for key in d: # d.keys eill have the same result\n",
    "    print(key)\n",
    "    \n",
    "# iterate thourgh dictionary values\n",
    "for value in d.values():\n",
    "    print(value)\n",
    "    \n",
    "# iterate through key-value pairs\n",
    "for key,value in d.items():\n",
    "    print(key,value)"
   ]
  },
  {
   "cell_type": "markdown",
   "metadata": {
    "heading_collapsed": true
   },
   "source": [
    "# Exercises - List comprehension"
   ]
  },
  {
   "cell_type": "markdown",
   "metadata": {
    "hidden": true
   },
   "source": [
    "Based on the following list ['hi', 'hello', 'hey', 'giaho', 'ciao', 'xinxin'], create a list with the lenght of the different elements of this list"
   ]
  },
  {
   "cell_type": "code",
   "execution_count": 16,
   "metadata": {
    "hidden": true
   },
   "outputs": [
    {
     "name": "stdout",
     "output_type": "stream",
     "text": [
      "[2, 5, 3, 5, 4, 6]\n"
     ]
    }
   ],
   "source": [
    "original_list = ['hi', 'hello', 'hey', 'giaho', 'ciao', 'xinxin']\n",
    "processed_list = [len(i) for i in original_list]\n",
    "print(processed_list)"
   ]
  },
  {
   "cell_type": "markdown",
   "metadata": {
    "hidden": true
   },
   "source": [
    "Given the list [\"Lighting\", 23, 1.3, \"potatoes\", [1, 2, 3], 4.5, 7] we want to create a list where the integer values of the original list are multiplied by 3. You should solve this with one line of code."
   ]
  },
  {
   "cell_type": "code",
   "execution_count": 17,
   "metadata": {
    "hidden": true,
    "scrolled": false
   },
   "outputs": [
    {
     "name": "stdout",
     "output_type": "stream",
     "text": [
      "[69, 21]\n"
     ]
    }
   ],
   "source": [
    "original_list = [\"Lighting\", 23, 1.3, \"potatoes\", [1, 2, 3], 4.5, 7]\n",
    "processed_list = [i * 3 for i in original_list if type(i)==int]\n",
    "print(processed_list)"
   ]
  },
  {
   "cell_type": "markdown",
   "metadata": {
    "hidden": true
   },
   "source": [
    "Given the following price list, apply a 50% discount on values bigger than 100 and\n",
    "25% discount on the rest,\n",
    "\n",
    "price_list = [20, 50, 101, 200, 45, 34, 334, 95]\n",
    "\n",
    "Solve the problem by using a list comprehension\n",
    "\n",
    "**Hint: [ expression if condition else other thing for this many times ]**"
   ]
  },
  {
   "cell_type": "code",
   "execution_count": 18,
   "metadata": {
    "hidden": true
   },
   "outputs": [
    {
     "name": "stdout",
     "output_type": "stream",
     "text": [
      "[15.0, 37.5, 50.5, 100.0, 33.75, 25.5, 167.0, 71.25]\n"
     ]
    }
   ],
   "source": [
    "price_list = [20, 50, 101, 200, 45, 34, 334, 95]\n",
    "\n",
    "discounted_list = [a*0.5 if a > 100 else a*0.75 for a in price_list]\n",
    "print(discounted_list)"
   ]
  }
 ],
 "metadata": {
  "kernelspec": {
   "display_name": "Python 3",
   "language": "python",
   "name": "python3"
  },
  "language_info": {
   "codemirror_mode": {
    "name": "ipython",
    "version": 3
   },
   "file_extension": ".py",
   "mimetype": "text/x-python",
   "name": "python",
   "nbconvert_exporter": "python",
   "pygments_lexer": "ipython3",
   "version": "3.8.8"
  }
 },
 "nbformat": 4,
 "nbformat_minor": 4
}
