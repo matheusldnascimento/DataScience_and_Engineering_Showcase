{
 "cells": [
  {
   "cell_type": "markdown",
   "metadata": {},
   "source": [
    "# Exercises"
   ]
  },
  {
   "cell_type": "markdown",
   "metadata": {},
   "source": [
    "## 1. Do the following one line at a time:\n",
    "\n",
    "\n",
    "- Initialize a string variable that holds the name of a stock (ex: AAPL)\n",
    "- Initialize a float variable with the value of the stock (ex: 25$)\n",
    "- Initialize an integer variable with the number of shares you would like to trade (ex: 100)\n",
    "- Initialize another variable with the action you would like to perform (buy or sell)\n",
    "- Print a string that says 'I would like to \"buy or sell\" \"n\" shares in \"name of stock\"' (ex: I would like to sell 100 shares in AAPL)"
   ]
  },
  {
   "cell_type": "code",
   "execution_count": 1,
   "metadata": {},
   "outputs": [],
   "source": [
    "stock_name = 'AAPL'\n",
    "stock_value = 25.0\n",
    "stock_shares = 100\n",
    "stock_action = 'buy'\n",
    "stock_string = 'I would like to {} {} shares in {}'.format(stock_action,stock_shares,stock_name)\n",
    "\n",
    "\n",
    "stock_string_2 = 'I would like to ' + stock_action + ' ' + str(stock_shares) + ' shares in ' + stock_name"
   ]
  },
  {
   "cell_type": "code",
   "execution_count": 2,
   "metadata": {},
   "outputs": [
    {
     "name": "stdout",
     "output_type": "stream",
     "text": [
      "I would like to buy 100 shares in AAPL\n",
      "I would like to buy 100 shares in AAPL\n"
     ]
    }
   ],
   "source": [
    "print(stock_string)\n",
    "print(stock_string_2)"
   ]
  },
  {
   "cell_type": "markdown",
   "metadata": {},
   "source": [
    "##  2. Multiply two variables\n",
    "\n",
    "- Create two variables and give them integer values\n",
    "- Multiply them together\n",
    "- Store the result in another variable"
   ]
  },
  {
   "cell_type": "code",
   "execution_count": 3,
   "metadata": {},
   "outputs": [],
   "source": [
    "a = 1\n",
    "b = 3\n",
    "multiply = a * b"
   ]
  },
  {
   "cell_type": "markdown",
   "metadata": {},
   "source": [
    "## 3. Conversion to fahrenheit and kelvin\n",
    "\n",
    "Today we need to convert celsius to fahrenheit and kelvin. Starting with the variable celsius at 30º, create the variables fahrenheit and kelvin that represent that temperature in that specific scale and print their value.\n",
    "\n",
    "Hint: you might have to google the conversion rates in order to complete this exercise"
   ]
  },
  {
   "cell_type": "markdown",
   "metadata": {},
   "source": [
    "- F = Celsius * 1.8 + 32\n",
    "- K = celsius + 273"
   ]
  },
  {
   "cell_type": "code",
   "execution_count": 4,
   "metadata": {},
   "outputs": [
    {
     "name": "stdout",
     "output_type": "stream",
     "text": [
      "30 86.0 303\n"
     ]
    }
   ],
   "source": [
    "celsius = 30\n",
    "f = celsius * 1.8 + 32\n",
    "k = celsius + 273\n",
    "print(celsius,f,k)"
   ]
  },
  {
   "cell_type": "markdown",
   "metadata": {},
   "source": [
    "## 4. Calculate the distance (in meters) a light particle travels for 12 seconds.\n",
    "\n",
    "Assign the speed of light (2.99 x 10^8 m/s) to the variable speed_light. Use the scientific notation and 2 decimal places (2.99E8)."
   ]
  },
  {
   "cell_type": "code",
   "execution_count": 9,
   "metadata": {},
   "outputs": [],
   "source": [
    "speed_light = 2.99E8"
   ]
  },
  {
   "cell_type": "markdown",
   "metadata": {},
   "source": [
    "Assign the distance travelled by the particle (in meters) to variable distance_travelled."
   ]
  },
  {
   "cell_type": "code",
   "execution_count": 10,
   "metadata": {},
   "outputs": [
    {
     "name": "stdout",
     "output_type": "stream",
     "text": [
      "3588000000.0\n"
     ]
    }
   ],
   "source": [
    "distance_travelled = speed_light * 12\n",
    "print(distance_travelled)"
   ]
  },
  {
   "cell_type": "markdown",
   "metadata": {},
   "source": [
    "## 5. Solve the following problem:\n",
    "\n",
    "Steve used his savings of 2300 euros for some purchases. He spent 3/4 of his savings on furniture. He then spent 1/2 of his remaining savings on a fridge. How much money had Steve left on his savings after the purchases? Define a variable `savings_left`"
   ]
  },
  {
   "cell_type": "code",
   "execution_count": 11,
   "metadata": {},
   "outputs": [
    {
     "data": {
      "text/plain": [
       "287.5"
      ]
     },
     "execution_count": 11,
     "metadata": {},
     "output_type": "execute_result"
    }
   ],
   "source": [
    "savings_left = (2300 * (1 - 3/4)) * 0.5\n",
    "savings_left"
   ]
  },
  {
   "cell_type": "markdown",
   "metadata": {},
   "source": [
    "## 6. Data type conversion"
   ]
  },
  {
   "cell_type": "markdown",
   "metadata": {},
   "source": [
    "Assign to variable size_string the value of variable size converted into a string"
   ]
  },
  {
   "cell_type": "code",
   "execution_count": 12,
   "metadata": {},
   "outputs": [
    {
     "data": {
      "text/plain": [
       "str"
      ]
     },
     "execution_count": 12,
     "metadata": {},
     "output_type": "execute_result"
    }
   ],
   "source": [
    "size = 1.78\n",
    "size_string = str(size)\n",
    "type(size_string)"
   ]
  },
  {
   "cell_type": "markdown",
   "metadata": {},
   "source": [
    "Assign to variable age_int the value of variable age converted into a integer. "
   ]
  },
  {
   "cell_type": "code",
   "execution_count": 13,
   "metadata": {},
   "outputs": [
    {
     "data": {
      "text/plain": [
       "int"
      ]
     },
     "execution_count": 13,
     "metadata": {},
     "output_type": "execute_result"
    }
   ],
   "source": [
    "age = \"34\"\n",
    "age_int = int(age)\n",
    "type(age_int)"
   ]
  },
  {
   "cell_type": "markdown",
   "metadata": {},
   "source": [
    "Assign to variable weight_float the value of variable weight converted into a float."
   ]
  },
  {
   "cell_type": "code",
   "execution_count": 14,
   "metadata": {},
   "outputs": [
    {
     "data": {
      "text/plain": [
       "float"
      ]
     },
     "execution_count": 14,
     "metadata": {},
     "output_type": "execute_result"
    }
   ],
   "source": [
    "weight = \"78.4\"\n",
    "weight_float = float(weight)\n",
    "type(weight_float)"
   ]
  }
 ],
 "metadata": {
  "kernelspec": {
   "display_name": "Python 3",
   "language": "python",
   "name": "python3"
  },
  "language_info": {
   "codemirror_mode": {
    "name": "ipython",
    "version": 3
   },
   "file_extension": ".py",
   "mimetype": "text/x-python",
   "name": "python",
   "nbconvert_exporter": "python",
   "pygments_lexer": "ipython3",
   "version": "3.8.8"
  }
 },
 "nbformat": 4,
 "nbformat_minor": 4
}
