{
 "cells": [
  {
   "cell_type": "markdown",
   "id": "ab98d106",
   "metadata": {
    "colab_type": "text",
    "id": "wNcANACMKV1J"
   },
   "source": [
    "# Challenge"
   ]
  },
  {
   "cell_type": "markdown",
   "id": "5ad09374",
   "metadata": {
    "colab_type": "text",
    "id": "ksrp5e0kW7S3"
   },
   "source": [
    "## Unit 0"
   ]
  },
  {
   "cell_type": "markdown",
   "id": "f756ac26",
   "metadata": {
    "colab_type": "text",
    "id": "CRMyQxWevi9o"
   },
   "source": [
    "#### **Import libraries**\n",
    "\n",
    "- 'pandas' to handle data\n",
    "- 'matplotlib'"
   ]
  },
  {
   "cell_type": "code",
   "execution_count": 1,
   "id": "f9694dea",
   "metadata": {
    "colab": {},
    "colab_type": "code",
    "id": "3_WOvTdBms0g"
   },
   "outputs": [],
   "source": [
    "# Code here:\n",
    "import pandas as pd\n",
    "import matplotlib.pyplot as plt"
   ]
  },
  {
   "cell_type": "markdown",
   "id": "d1f01db1",
   "metadata": {
    "colab_type": "text",
    "id": "cvoCA2t_ms0e"
   },
   "source": [
    "#### **Load dataset to a dataframe**\n",
    "\n",
    "You already have the dataset with the name ***'covid19.csv'*** ready in the folder data ;-)\n",
    "\n",
    "Load the csv into a Pandas DataFrame"
   ]
  },
  {
   "cell_type": "code",
   "execution_count": 2,
   "id": "77e25645",
   "metadata": {
    "colab": {},
    "colab_type": "code",
    "id": "A9KvG4NtuDRm"
   },
   "outputs": [],
   "source": [
    "df = pd.read_csv('data/covid19.csv')"
   ]
  },
  {
   "cell_type": "markdown",
   "id": "85789988",
   "metadata": {
    "colab_type": "text",
    "id": "7ejiNLsx6VoN"
   },
   "source": [
    "## Unit 1. First overview\n",
    "\n",
    "In this chapter we do the first overview of the dataset and should make it (more) usable for the next steps."
   ]
  },
  {
   "cell_type": "markdown",
   "id": "c5ff5d1d",
   "metadata": {
    "colab_type": "text",
    "id": "9INgDoo5cZgF"
   },
   "source": [
    "#### **Check the head, tail and shape of the dataset**"
   ]
  },
  {
   "cell_type": "code",
   "execution_count": 3,
   "id": "798eeaf8",
   "metadata": {
    "colab": {
     "base_uri": "https://localhost:8080/",
     "height": 204
    },
    "colab_type": "code",
    "executionInfo": {
     "elapsed": 2320,
     "status": "ok",
     "timestamp": 1587218945261,
     "user": {
      "displayName": "Nuno Reis",
      "photoUrl": "",
      "userId": "07361859627404914753"
     },
     "user_tz": -60
    },
    "id": "2psQgIL_FaJK",
    "outputId": "37ff7e78-fb25-4a5c-c0a2-8890ff9598fb",
    "scrolled": true
   },
   "outputs": [
    {
     "data": {
      "text/html": [
       "<div>\n",
       "<style scoped>\n",
       "    .dataframe tbody tr th:only-of-type {\n",
       "        vertical-align: middle;\n",
       "    }\n",
       "\n",
       "    .dataframe tbody tr th {\n",
       "        vertical-align: top;\n",
       "    }\n",
       "\n",
       "    .dataframe thead th {\n",
       "        text-align: right;\n",
       "    }\n",
       "</style>\n",
       "<table border=\"1\" class=\"dataframe\">\n",
       "  <thead>\n",
       "    <tr style=\"text-align: right;\">\n",
       "      <th></th>\n",
       "      <th>Country/Region</th>\n",
       "      <th>Date (yyyy/mm/dd)</th>\n",
       "      <th>Confirmed cases</th>\n",
       "      <th>Death cases</th>\n",
       "      <th>Recovered cases</th>\n",
       "    </tr>\n",
       "  </thead>\n",
       "  <tbody>\n",
       "    <tr>\n",
       "      <th>0</th>\n",
       "      <td>Afghanistan</td>\n",
       "      <td>2020-01-22</td>\n",
       "      <td>0</td>\n",
       "      <td>0</td>\n",
       "      <td>0</td>\n",
       "    </tr>\n",
       "    <tr>\n",
       "      <th>1</th>\n",
       "      <td>Afghanistan</td>\n",
       "      <td>2020-01-23</td>\n",
       "      <td>0</td>\n",
       "      <td>0</td>\n",
       "      <td>0</td>\n",
       "    </tr>\n",
       "    <tr>\n",
       "      <th>2</th>\n",
       "      <td>Afghanistan</td>\n",
       "      <td>2020-01-24</td>\n",
       "      <td>0</td>\n",
       "      <td>0</td>\n",
       "      <td>0</td>\n",
       "    </tr>\n",
       "    <tr>\n",
       "      <th>3</th>\n",
       "      <td>Afghanistan</td>\n",
       "      <td>2020-01-25</td>\n",
       "      <td>0</td>\n",
       "      <td>0</td>\n",
       "      <td>0</td>\n",
       "    </tr>\n",
       "    <tr>\n",
       "      <th>4</th>\n",
       "      <td>Afghanistan</td>\n",
       "      <td>2020-01-26</td>\n",
       "      <td>0</td>\n",
       "      <td>0</td>\n",
       "      <td>0</td>\n",
       "    </tr>\n",
       "  </tbody>\n",
       "</table>\n",
       "</div>"
      ],
      "text/plain": [
       "  Country/Region Date (yyyy/mm/dd)  Confirmed cases  Death cases  \\\n",
       "0    Afghanistan        2020-01-22                0            0   \n",
       "1    Afghanistan        2020-01-23                0            0   \n",
       "2    Afghanistan        2020-01-24                0            0   \n",
       "3    Afghanistan        2020-01-25                0            0   \n",
       "4    Afghanistan        2020-01-26                0            0   \n",
       "\n",
       "   Recovered cases  \n",
       "0                0  \n",
       "1                0  \n",
       "2                0  \n",
       "3                0  \n",
       "4                0  "
      ]
     },
     "execution_count": 3,
     "metadata": {},
     "output_type": "execute_result"
    }
   ],
   "source": [
    "# Code here:\n",
    "df.head()"
   ]
  },
  {
   "cell_type": "code",
   "execution_count": 4,
   "id": "637c648e",
   "metadata": {},
   "outputs": [
    {
     "data": {
      "text/html": [
       "<div>\n",
       "<style scoped>\n",
       "    .dataframe tbody tr th:only-of-type {\n",
       "        vertical-align: middle;\n",
       "    }\n",
       "\n",
       "    .dataframe tbody tr th {\n",
       "        vertical-align: top;\n",
       "    }\n",
       "\n",
       "    .dataframe thead th {\n",
       "        text-align: right;\n",
       "    }\n",
       "</style>\n",
       "<table border=\"1\" class=\"dataframe\">\n",
       "  <thead>\n",
       "    <tr style=\"text-align: right;\">\n",
       "      <th></th>\n",
       "      <th>Country/Region</th>\n",
       "      <th>Date (yyyy/mm/dd)</th>\n",
       "      <th>Confirmed cases</th>\n",
       "      <th>Death cases</th>\n",
       "      <th>Recovered cases</th>\n",
       "    </tr>\n",
       "  </thead>\n",
       "  <tbody>\n",
       "    <tr>\n",
       "      <th>82870</th>\n",
       "      <td>Zimbabwe</td>\n",
       "      <td>2021-03-17</td>\n",
       "      <td>36552</td>\n",
       "      <td>1508</td>\n",
       "      <td>34136</td>\n",
       "    </tr>\n",
       "    <tr>\n",
       "      <th>82871</th>\n",
       "      <td>Zimbabwe</td>\n",
       "      <td>2021-03-18</td>\n",
       "      <td>36611</td>\n",
       "      <td>1509</td>\n",
       "      <td>34226</td>\n",
       "    </tr>\n",
       "    <tr>\n",
       "      <th>82872</th>\n",
       "      <td>Zimbabwe</td>\n",
       "      <td>2021-03-19</td>\n",
       "      <td>36652</td>\n",
       "      <td>1510</td>\n",
       "      <td>34249</td>\n",
       "    </tr>\n",
       "    <tr>\n",
       "      <th>82873</th>\n",
       "      <td>Zimbabwe</td>\n",
       "      <td>2021-03-20</td>\n",
       "      <td>36662</td>\n",
       "      <td>1510</td>\n",
       "      <td>34257</td>\n",
       "    </tr>\n",
       "    <tr>\n",
       "      <th>82874</th>\n",
       "      <td>Zimbabwe</td>\n",
       "      <td>2021-03-21</td>\n",
       "      <td>36665</td>\n",
       "      <td>1512</td>\n",
       "      <td>34269</td>\n",
       "    </tr>\n",
       "  </tbody>\n",
       "</table>\n",
       "</div>"
      ],
      "text/plain": [
       "      Country/Region Date (yyyy/mm/dd)  Confirmed cases  Death cases  \\\n",
       "82870       Zimbabwe        2021-03-17            36552         1508   \n",
       "82871       Zimbabwe        2021-03-18            36611         1509   \n",
       "82872       Zimbabwe        2021-03-19            36652         1510   \n",
       "82873       Zimbabwe        2021-03-20            36662         1510   \n",
       "82874       Zimbabwe        2021-03-21            36665         1512   \n",
       "\n",
       "       Recovered cases  \n",
       "82870            34136  \n",
       "82871            34226  \n",
       "82872            34249  \n",
       "82873            34257  \n",
       "82874            34269  "
      ]
     },
     "execution_count": 4,
     "metadata": {},
     "output_type": "execute_result"
    }
   ],
   "source": [
    "df.tail()"
   ]
  },
  {
   "cell_type": "code",
   "execution_count": 5,
   "id": "287e2750",
   "metadata": {},
   "outputs": [
    {
     "data": {
      "text/plain": [
       "(82875, 5)"
      ]
     },
     "execution_count": 5,
     "metadata": {},
     "output_type": "execute_result"
    }
   ],
   "source": [
    "df.shape"
   ]
  },
  {
   "cell_type": "markdown",
   "id": "b41684c3",
   "metadata": {
    "colab_type": "text",
    "id": "p0iKoYp6GgqH"
   },
   "source": [
    "#### **Q1. What are the columns of the dataset?**"
   ]
  },
  {
   "cell_type": "code",
   "execution_count": 6,
   "id": "8300dfca",
   "metadata": {
    "colab": {
     "base_uri": "https://localhost:8080/",
     "height": 204
    },
    "colab_type": "code",
    "executionInfo": {
     "elapsed": 2307,
     "status": "ok",
     "timestamp": 1587218945262,
     "user": {
      "displayName": "Nuno Reis",
      "photoUrl": "",
      "userId": "07361859627404914753"
     },
     "user_tz": -60
    },
    "id": "SlUFAty-LctT",
    "outputId": "623f30a3-16cc-45e1-f089-057f15a00766"
   },
   "outputs": [
    {
     "data": {
      "text/plain": [
       "Index(['Country/Region', 'Date (yyyy/mm/dd)', 'Confirmed cases', 'Death cases',\n",
       "       'Recovered cases'],\n",
       "      dtype='object')"
      ]
     },
     "execution_count": 6,
     "metadata": {},
     "output_type": "execute_result"
    }
   ],
   "source": [
    "df.columns"
   ]
  },
  {
   "cell_type": "markdown",
   "id": "8267d9ff",
   "metadata": {
    "colab_type": "text",
    "id": "f_zW1ZUq_U7g"
   },
   "source": [
    "##### **Q1.1. Rename the columns of the dataset to make it easier to work with.**\n",
    "Use the follow dictionary to rename the columns:\n",
    "```\n",
    "{'Country/Region': 'country',\n",
    " 'Date (yyyy/mm/dd)': 'date',\n",
    " 'Confirmed cases': 'confirmed',\n",
    " 'Death cases': 'deaths',\n",
    " 'Recovered cases': 'recovered'\n",
    "}\n",
    "```"
   ]
  },
  {
   "cell_type": "code",
   "execution_count": 7,
   "id": "e53827fb",
   "metadata": {
    "colab": {},
    "colab_type": "code",
    "id": "726t_0wAFXjN"
   },
   "outputs": [
    {
     "data": {
      "text/html": [
       "<div>\n",
       "<style scoped>\n",
       "    .dataframe tbody tr th:only-of-type {\n",
       "        vertical-align: middle;\n",
       "    }\n",
       "\n",
       "    .dataframe tbody tr th {\n",
       "        vertical-align: top;\n",
       "    }\n",
       "\n",
       "    .dataframe thead th {\n",
       "        text-align: right;\n",
       "    }\n",
       "</style>\n",
       "<table border=\"1\" class=\"dataframe\">\n",
       "  <thead>\n",
       "    <tr style=\"text-align: right;\">\n",
       "      <th></th>\n",
       "      <th>country</th>\n",
       "      <th>date</th>\n",
       "      <th>confirmed</th>\n",
       "      <th>deaths</th>\n",
       "      <th>recovered</th>\n",
       "    </tr>\n",
       "  </thead>\n",
       "  <tbody>\n",
       "    <tr>\n",
       "      <th>0</th>\n",
       "      <td>Afghanistan</td>\n",
       "      <td>2020-01-22</td>\n",
       "      <td>0</td>\n",
       "      <td>0</td>\n",
       "      <td>0</td>\n",
       "    </tr>\n",
       "    <tr>\n",
       "      <th>1</th>\n",
       "      <td>Afghanistan</td>\n",
       "      <td>2020-01-23</td>\n",
       "      <td>0</td>\n",
       "      <td>0</td>\n",
       "      <td>0</td>\n",
       "    </tr>\n",
       "    <tr>\n",
       "      <th>2</th>\n",
       "      <td>Afghanistan</td>\n",
       "      <td>2020-01-24</td>\n",
       "      <td>0</td>\n",
       "      <td>0</td>\n",
       "      <td>0</td>\n",
       "    </tr>\n",
       "    <tr>\n",
       "      <th>3</th>\n",
       "      <td>Afghanistan</td>\n",
       "      <td>2020-01-25</td>\n",
       "      <td>0</td>\n",
       "      <td>0</td>\n",
       "      <td>0</td>\n",
       "    </tr>\n",
       "    <tr>\n",
       "      <th>4</th>\n",
       "      <td>Afghanistan</td>\n",
       "      <td>2020-01-26</td>\n",
       "      <td>0</td>\n",
       "      <td>0</td>\n",
       "      <td>0</td>\n",
       "    </tr>\n",
       "    <tr>\n",
       "      <th>...</th>\n",
       "      <td>...</td>\n",
       "      <td>...</td>\n",
       "      <td>...</td>\n",
       "      <td>...</td>\n",
       "      <td>...</td>\n",
       "    </tr>\n",
       "    <tr>\n",
       "      <th>82870</th>\n",
       "      <td>Zimbabwe</td>\n",
       "      <td>2021-03-17</td>\n",
       "      <td>36552</td>\n",
       "      <td>1508</td>\n",
       "      <td>34136</td>\n",
       "    </tr>\n",
       "    <tr>\n",
       "      <th>82871</th>\n",
       "      <td>Zimbabwe</td>\n",
       "      <td>2021-03-18</td>\n",
       "      <td>36611</td>\n",
       "      <td>1509</td>\n",
       "      <td>34226</td>\n",
       "    </tr>\n",
       "    <tr>\n",
       "      <th>82872</th>\n",
       "      <td>Zimbabwe</td>\n",
       "      <td>2021-03-19</td>\n",
       "      <td>36652</td>\n",
       "      <td>1510</td>\n",
       "      <td>34249</td>\n",
       "    </tr>\n",
       "    <tr>\n",
       "      <th>82873</th>\n",
       "      <td>Zimbabwe</td>\n",
       "      <td>2021-03-20</td>\n",
       "      <td>36662</td>\n",
       "      <td>1510</td>\n",
       "      <td>34257</td>\n",
       "    </tr>\n",
       "    <tr>\n",
       "      <th>82874</th>\n",
       "      <td>Zimbabwe</td>\n",
       "      <td>2021-03-21</td>\n",
       "      <td>36665</td>\n",
       "      <td>1512</td>\n",
       "      <td>34269</td>\n",
       "    </tr>\n",
       "  </tbody>\n",
       "</table>\n",
       "<p>82875 rows × 5 columns</p>\n",
       "</div>"
      ],
      "text/plain": [
       "           country        date  confirmed  deaths  recovered\n",
       "0      Afghanistan  2020-01-22          0       0          0\n",
       "1      Afghanistan  2020-01-23          0       0          0\n",
       "2      Afghanistan  2020-01-24          0       0          0\n",
       "3      Afghanistan  2020-01-25          0       0          0\n",
       "4      Afghanistan  2020-01-26          0       0          0\n",
       "...            ...         ...        ...     ...        ...\n",
       "82870     Zimbabwe  2021-03-17      36552    1508      34136\n",
       "82871     Zimbabwe  2021-03-18      36611    1509      34226\n",
       "82872     Zimbabwe  2021-03-19      36652    1510      34249\n",
       "82873     Zimbabwe  2021-03-20      36662    1510      34257\n",
       "82874     Zimbabwe  2021-03-21      36665    1512      34269\n",
       "\n",
       "[82875 rows x 5 columns]"
      ]
     },
     "execution_count": 7,
     "metadata": {},
     "output_type": "execute_result"
    }
   ],
   "source": [
    "dic = {'Country/Region': 'country',\n",
    " 'Date (yyyy/mm/dd)': 'date',\n",
    " 'Confirmed cases': 'confirmed',\n",
    " 'Death cases': 'deaths',\n",
    " 'Recovered cases': 'recovered'\n",
    "}\n",
    "df.rename(columns=dic)"
   ]
  },
  {
   "cell_type": "markdown",
   "id": "823bed56",
   "metadata": {
    "colab_type": "text",
    "id": "kfyO6LYJHShO"
   },
   "source": [
    "#### **Q2. What is the type of each column of the dataset?**"
   ]
  },
  {
   "cell_type": "code",
   "execution_count": 8,
   "id": "43e5b71f",
   "metadata": {
    "colab": {
     "base_uri": "https://localhost:8080/",
     "height": 119
    },
    "colab_type": "code",
    "executionInfo": {
     "elapsed": 2287,
     "status": "ok",
     "timestamp": 1587218945265,
     "user": {
      "displayName": "Nuno Reis",
      "photoUrl": "",
      "userId": "07361859627404914753"
     },
     "user_tz": -60
    },
    "id": "Zes5YJRVLhJ8",
    "outputId": "4ba11291-8f1a-4154-c89f-6ce894adc653"
   },
   "outputs": [
    {
     "data": {
      "text/plain": [
       "Country/Region       object\n",
       "Date (yyyy/mm/dd)    object\n",
       "Confirmed cases       int64\n",
       "Death cases           int64\n",
       "Recovered cases       int64\n",
       "dtype: object"
      ]
     },
     "execution_count": 8,
     "metadata": {},
     "output_type": "execute_result"
    }
   ],
   "source": [
    "# Code here:\n",
    "df.dtypes"
   ]
  },
  {
   "cell_type": "markdown",
   "id": "c610ae3a",
   "metadata": {
    "colab_type": "text",
    "id": "BMSR_5-DArIi"
   },
   "source": [
    "##### **Q2.1. Change the type of the 'date' column to datetime.**"
   ]
  },
  {
   "cell_type": "code",
   "execution_count": 9,
   "id": "33edc00b",
   "metadata": {
    "colab": {
     "base_uri": "https://localhost:8080/",
     "height": 119
    },
    "colab_type": "code",
    "executionInfo": {
     "elapsed": 2271,
     "status": "ok",
     "timestamp": 1587218945266,
     "user": {
      "displayName": "Nuno Reis",
      "photoUrl": "",
      "userId": "07361859627404914753"
     },
     "user_tz": -60
    },
    "id": "KPr8EbWNBr5y",
    "outputId": "b968a5d7-f160-4b09-a6c1-1c4f1b84fd6d"
   },
   "outputs": [
    {
     "data": {
      "text/plain": [
       "Country/Region               object\n",
       "Date (yyyy/mm/dd)    datetime64[ns]\n",
       "Confirmed cases               int64\n",
       "Death cases                   int64\n",
       "Recovered cases               int64\n",
       "dtype: object"
      ]
     },
     "execution_count": 9,
     "metadata": {},
     "output_type": "execute_result"
    }
   ],
   "source": [
    "# Code here:\n",
    "df['Date (yyyy/mm/dd)'] = pd.to_datetime(df['Date (yyyy/mm/dd)'])\n",
    "df.dtypes"
   ]
  },
  {
   "cell_type": "markdown",
   "id": "cc1d87c1",
   "metadata": {
    "colab_type": "text",
    "id": "8gqNshqCHoJ0"
   },
   "source": [
    "#### **Q3. Do we have \"nulls\" in the dataset?**"
   ]
  },
  {
   "cell_type": "code",
   "execution_count": 10,
   "id": "9cfb1095",
   "metadata": {
    "colab": {
     "base_uri": "https://localhost:8080/",
     "height": 119
    },
    "colab_type": "code",
    "executionInfo": {
     "elapsed": 2260,
     "status": "ok",
     "timestamp": 1587218945266,
     "user": {
      "displayName": "Nuno Reis",
      "photoUrl": "",
      "userId": "07361859627404914753"
     },
     "user_tz": -60
    },
    "id": "QGWRDQ_MbolA",
    "outputId": "01f522f1-0b75-4cca-a3da-74537ac43d12"
   },
   "outputs": [
    {
     "data": {
      "text/plain": [
       "Country/Region       0\n",
       "Date (yyyy/mm/dd)    0\n",
       "Confirmed cases      0\n",
       "Death cases          0\n",
       "Recovered cases      0\n",
       "dtype: int64"
      ]
     },
     "execution_count": 10,
     "metadata": {},
     "output_type": "execute_result"
    }
   ],
   "source": [
    "# Code here:\n",
    "a = df.isnull()\n",
    "b = a.sum()\n",
    "b"
   ]
  },
  {
   "cell_type": "markdown",
   "id": "be7b5fdd",
   "metadata": {
    "colab_type": "text",
    "id": "AyVsxzlNHyyt"
   },
   "source": [
    "#### **Q4. How many countries do we have represented in the dataset?**"
   ]
  },
  {
   "cell_type": "code",
   "execution_count": 11,
   "id": "7315479a",
   "metadata": {
    "colab": {
     "base_uri": "https://localhost:8080/",
     "height": 34
    },
    "colab_type": "code",
    "executionInfo": {
     "elapsed": 2251,
     "status": "ok",
     "timestamp": 1587218945267,
     "user": {
      "displayName": "Nuno Reis",
      "photoUrl": "",
      "userId": "07361859627404914753"
     },
     "user_tz": -60
    },
    "id": "T5Q0GS5bebTL",
    "outputId": "01e1030d-0590-4ee5-dd59-59d671eaa023"
   },
   "outputs": [
    {
     "data": {
      "text/plain": [
       "count       82875\n",
       "unique        195\n",
       "top       Hungary\n",
       "freq          425\n",
       "Name: Country/Region, dtype: object"
      ]
     },
     "execution_count": 11,
     "metadata": {},
     "output_type": "execute_result"
    }
   ],
   "source": [
    "# Code here:\n",
    "df['Country/Region'].describe()"
   ]
  },
  {
   "cell_type": "markdown",
   "id": "4e86d2ee",
   "metadata": {
    "colab_type": "text",
    "id": "G0nSUztrJH27"
   },
   "source": [
    "#### **Q5. What is the first and the last 'date' of the dataset?**"
   ]
  },
  {
   "cell_type": "code",
   "execution_count": 12,
   "id": "d1d2ba51",
   "metadata": {
    "colab": {
     "base_uri": "https://localhost:8080/",
     "height": 34
    },
    "colab_type": "code",
    "executionInfo": {
     "elapsed": 2242,
     "status": "ok",
     "timestamp": 1587218945268,
     "user": {
      "displayName": "Nuno Reis",
      "photoUrl": "",
      "userId": "07361859627404914753"
     },
     "user_tz": -60
    },
    "id": "VNqPhzIXfNoI",
    "outputId": "65627552-d779-4cfa-fead-96a4c17b446c"
   },
   "outputs": [
    {
     "data": {
      "text/plain": [
       "Timestamp('2020-01-22 00:00:00')"
      ]
     },
     "execution_count": 12,
     "metadata": {},
     "output_type": "execute_result"
    }
   ],
   "source": [
    "# Code here:\n",
    "df['Date (yyyy/mm/dd)'].min()"
   ]
  },
  {
   "cell_type": "code",
   "execution_count": 13,
   "id": "115f5cba",
   "metadata": {},
   "outputs": [
    {
     "data": {
      "text/plain": [
       "Timestamp('2021-03-21 00:00:00')"
      ]
     },
     "execution_count": 13,
     "metadata": {},
     "output_type": "execute_result"
    }
   ],
   "source": [
    "df['Date (yyyy/mm/dd)'].max()"
   ]
  },
  {
   "cell_type": "markdown",
   "id": "78dc7ab3",
   "metadata": {
    "colab_type": "text",
    "id": "lhu0KiaEDe8J"
   },
   "source": [
    "## Unit 2. Data Analysis: Worldwide\n",
    "\n",
    "Time to make some worldwide analysis looking at global metrics and comparing countries."
   ]
  },
  {
   "cell_type": "markdown",
   "id": "49f3962b",
   "metadata": {
    "colab_type": "text",
    "id": "xJ49FpwxLD7h"
   },
   "source": [
    "#### **Q6. We checked before that we have data for 'confirmed', 'recovered' and 'deaths' cases but something is missing... Add the column for 'active' cases to the dataset.**"
   ]
  },
  {
   "cell_type": "code",
   "execution_count": 14,
   "id": "791bd094",
   "metadata": {
    "colab": {},
    "colab_type": "code",
    "id": "J1w1PepcirAB"
   },
   "outputs": [
    {
     "data": {
      "text/html": [
       "<div>\n",
       "<style scoped>\n",
       "    .dataframe tbody tr th:only-of-type {\n",
       "        vertical-align: middle;\n",
       "    }\n",
       "\n",
       "    .dataframe tbody tr th {\n",
       "        vertical-align: top;\n",
       "    }\n",
       "\n",
       "    .dataframe thead th {\n",
       "        text-align: right;\n",
       "    }\n",
       "</style>\n",
       "<table border=\"1\" class=\"dataframe\">\n",
       "  <thead>\n",
       "    <tr style=\"text-align: right;\">\n",
       "      <th></th>\n",
       "      <th>Country/Region</th>\n",
       "      <th>Date (yyyy/mm/dd)</th>\n",
       "      <th>Confirmed cases</th>\n",
       "      <th>Death cases</th>\n",
       "      <th>Recovered cases</th>\n",
       "      <th>active</th>\n",
       "    </tr>\n",
       "  </thead>\n",
       "  <tbody>\n",
       "    <tr>\n",
       "      <th>0</th>\n",
       "      <td>Afghanistan</td>\n",
       "      <td>2020-01-22</td>\n",
       "      <td>0</td>\n",
       "      <td>0</td>\n",
       "      <td>0</td>\n",
       "      <td>0</td>\n",
       "    </tr>\n",
       "    <tr>\n",
       "      <th>1</th>\n",
       "      <td>Afghanistan</td>\n",
       "      <td>2020-01-23</td>\n",
       "      <td>0</td>\n",
       "      <td>0</td>\n",
       "      <td>0</td>\n",
       "      <td>0</td>\n",
       "    </tr>\n",
       "    <tr>\n",
       "      <th>2</th>\n",
       "      <td>Afghanistan</td>\n",
       "      <td>2020-01-24</td>\n",
       "      <td>0</td>\n",
       "      <td>0</td>\n",
       "      <td>0</td>\n",
       "      <td>0</td>\n",
       "    </tr>\n",
       "    <tr>\n",
       "      <th>3</th>\n",
       "      <td>Afghanistan</td>\n",
       "      <td>2020-01-25</td>\n",
       "      <td>0</td>\n",
       "      <td>0</td>\n",
       "      <td>0</td>\n",
       "      <td>0</td>\n",
       "    </tr>\n",
       "    <tr>\n",
       "      <th>4</th>\n",
       "      <td>Afghanistan</td>\n",
       "      <td>2020-01-26</td>\n",
       "      <td>0</td>\n",
       "      <td>0</td>\n",
       "      <td>0</td>\n",
       "      <td>0</td>\n",
       "    </tr>\n",
       "  </tbody>\n",
       "</table>\n",
       "</div>"
      ],
      "text/plain": [
       "  Country/Region Date (yyyy/mm/dd)  Confirmed cases  Death cases  \\\n",
       "0    Afghanistan        2020-01-22                0            0   \n",
       "1    Afghanistan        2020-01-23                0            0   \n",
       "2    Afghanistan        2020-01-24                0            0   \n",
       "3    Afghanistan        2020-01-25                0            0   \n",
       "4    Afghanistan        2020-01-26                0            0   \n",
       "\n",
       "   Recovered cases  active  \n",
       "0                0       0  \n",
       "1                0       0  \n",
       "2                0       0  \n",
       "3                0       0  \n",
       "4                0       0  "
      ]
     },
     "execution_count": 14,
     "metadata": {},
     "output_type": "execute_result"
    }
   ],
   "source": [
    "# Code here:\n",
    "df['active'] = df['Confirmed cases'] - (df['Death cases'] + df['Recovered cases'])\n",
    "df.head()"
   ]
  },
  {
   "cell_type": "markdown",
   "id": "73c859ea",
   "metadata": {
    "colab_type": "text",
    "id": "b725iszzL8bl"
   },
   "source": [
    "#### **Q7. Create a dataset that have the cumulative ACTIVE cases worldwide per day.**"
   ]
  },
  {
   "cell_type": "code",
   "execution_count": 15,
   "id": "c2c8b92c",
   "metadata": {
    "colab": {
     "base_uri": "https://localhost:8080/",
     "height": 136
    },
    "colab_type": "code",
    "executionInfo": {
     "elapsed": 2220,
     "status": "ok",
     "timestamp": 1587218945271,
     "user": {
      "displayName": "Nuno Reis",
      "photoUrl": "",
      "userId": "07361859627404914753"
     },
     "user_tz": -60
    },
    "id": "voibydFclDB4",
    "outputId": "3f0fc81b-2bab-4046-94cd-d4c80252907b"
   },
   "outputs": [
    {
     "name": "stdout",
     "output_type": "stream",
     "text": [
      "  Date (yyyy/mm/dd)  cumulative_active\n",
      "0        2020-01-22                510\n",
      "1        2020-01-23               1115\n",
      "2        2020-01-24               1991\n",
      "3        2020-01-25               3341\n",
      "4        2020-01-26               5347\n"
     ]
    }
   ],
   "source": [
    "# Code here:\n",
    "cumulative_active = df.groupby('Date (yyyy/mm/dd)')['active'].sum().cumsum()\n",
    "cumulative_active_df = pd.DataFrame({'Date (yyyy/mm/dd)': cumulative_active.index, 'cumulative_active': cumulative_active.values})\n",
    "print(cumulative_active_df.head())"
   ]
  },
  {
   "cell_type": "code",
   "execution_count": 16,
   "id": "e58051ec",
   "metadata": {},
   "outputs": [
    {
     "data": {
      "text/plain": [
       "Date (yyyy/mm/dd)\n",
       "2020-01-22           510\n",
       "2020-01-23          1115\n",
       "2020-01-24          1991\n",
       "2020-01-25          3341\n",
       "2020-01-26          5347\n",
       "                 ...    \n",
       "2021-03-17    6002255279\n",
       "2021-03-18    6052335848\n",
       "2021-03-19    6102688295\n",
       "2021-03-20    6153273846\n",
       "2021-03-21    6203995415\n",
       "Name: active, Length: 425, dtype: int64"
      ]
     },
     "execution_count": 16,
     "metadata": {},
     "output_type": "execute_result"
    }
   ],
   "source": [
    "cumulative_active = df.groupby('Date (yyyy/mm/dd)')['active'].sum().cumsum()\n",
    "cumulative_active"
   ]
  },
  {
   "cell_type": "markdown",
   "id": "c4020f21",
   "metadata": {
    "colab_type": "text",
    "id": "dOfftThTMoFc"
   },
   "source": [
    "![showtime](https://media.giphy.com/media/13ZVRnWnmSMaRy/giphy.gif)\n",
    "\n",
    "***IT'S SHOOOOOOW TIME***\n",
    "\n",
    "#### **Q8. Plot the curve with the evolution of the active cases worlwide.**"
   ]
  },
  {
   "cell_type": "code",
   "execution_count": 17,
   "id": "78c9ee34",
   "metadata": {
    "colab": {
     "base_uri": "https://localhost:8080/",
     "height": 330
    },
    "colab_type": "code",
    "executionInfo": {
     "elapsed": 1493,
     "status": "ok",
     "timestamp": 1587219076364,
     "user": {
      "displayName": "Nuno Reis",
      "photoUrl": "",
      "userId": "07361859627404914753"
     },
     "user_tz": -60
    },
    "id": "oZ1vzWgUjotD",
    "outputId": "a3e80949-2025-4c32-eabe-c87a5ae1ea51"
   },
   "outputs": [
    {
     "data": {
      "image/png": "[encoded data removed]",
      "text/plain": [
       "<Figure size 864x432 with 1 Axes>"
      ]
     },
     "metadata": {
      "needs_background": "light"
     },
     "output_type": "display_data"
    }
   ],
   "source": [
    "# Code here:\n",
    "plt.figure(figsize=(12, 6))\n",
    "plt.plot(cumulative_active_df['Date (yyyy/mm/dd)'], cumulative_active_df['cumulative_active'], color='blue', label='Cumulative Active Cases')\n",
    "\n",
    "plt.xlabel('Date')\n",
    "plt.ylabel('Cumulative Active Cases')\n",
    "plt.title('Evolution of Cumulative Active Cases Worldwide')\n",
    "\n",
    "plt.show()\n"
   ]
  },
  {
   "cell_type": "markdown",
   "id": "a1b584b8",
   "metadata": {
    "colab_type": "text",
    "id": "oAHGd26ANxqZ"
   },
   "source": [
    "#### **Q9. Get the top 10 countries by confirmed cases and plot a bar chart with the top 10 countries with more confirmed cases.**\n",
    "> **Hint**: You can filter the dataset by the latest day of the dataset (it has the number of confirmed cases in each country). Then sort the values by 'confirmed' and use `head(10)` to get the top 10."
   ]
  },
  {
   "cell_type": "code",
   "execution_count": 18,
   "id": "a0997c83",
   "metadata": {
    "colab": {
     "base_uri": "https://localhost:8080/",
     "height": 359
    },
    "colab_type": "code",
    "executionInfo": {
     "elapsed": 2678,
     "status": "ok",
     "timestamp": 1587218945751,
     "user": {
      "displayName": "Nuno Reis",
      "photoUrl": "",
      "userId": "07361859627404914753"
     },
     "user_tz": -60
    },
    "id": "ZjSaEFjxiq0-",
    "outputId": "c7ebee0c-6dbf-4467-de16-ec27786bb84a"
   },
   "outputs": [
    {
     "data": {
      "image/png": "[encoded data removed]",
      "text/plain": [
       "<Figure size 864x432 with 1 Axes>"
      ]
     },
     "metadata": {
      "needs_background": "light"
     },
     "output_type": "display_data"
    }
   ],
   "source": [
    "# Code here to get the top 10:\n",
    "new_data = df[df['Date (yyyy/mm/dd)'] == df['Date (yyyy/mm/dd)'].max()]\n",
    "top = new_data.sort_values(by='Confirmed cases', ascending=False).head(10)\n",
    "plt.figure(figsize=(12, 6))\n",
    "plt.barh(top['Country/Region'], top['Confirmed cases'])\n",
    "plt.show()"
   ]
  },
  {
   "cell_type": "code",
   "execution_count": 19,
   "id": "c39e3f8b",
   "metadata": {
    "colab": {
     "base_uri": "https://localhost:8080/",
     "height": 295
    },
    "colab_type": "code",
    "executionInfo": {
     "elapsed": 3056,
     "status": "ok",
     "timestamp": 1587218946140,
     "user": {
      "displayName": "Nuno Reis",
      "photoUrl": "",
      "userId": "07361859627404914753"
     },
     "user_tz": -60
    },
    "id": "YRKIU_iFwqgy",
    "outputId": "5be772a9-52b3-44bc-9fda-0b191f051553"
   },
   "outputs": [],
   "source": [
    "# Code here to plot the bar chart:\n"
   ]
  },
  {
   "cell_type": "markdown",
   "id": "addb82d0",
   "metadata": {
    "colab_type": "text",
    "id": "saevC45eYxGN"
   },
   "source": [
    "#### **Q10. Calculate the recovery percentage and mortality rate for each country in latest day**\n",
    "\n",
    "> **Hint:** Create a dataset with just the last date and create a column for each of the ratios we want:"
   ]
  },
  {
   "cell_type": "code",
   "execution_count": 20,
   "id": "ec9abc44",
   "metadata": {
    "colab": {
     "base_uri": "https://localhost:8080/",
     "height": 419
    },
    "colab_type": "code",
    "executionInfo": {
     "elapsed": 3047,
     "status": "ok",
     "timestamp": 1587218946141,
     "user": {
      "displayName": "Nuno Reis",
      "photoUrl": "",
      "userId": "07361859627404914753"
     },
     "user_tz": -60
    },
    "id": "YnDJbonlYv0l",
    "outputId": "ddaf91e8-3b14-417f-f8af-b14a5cdd5f5a"
   },
   "outputs": [
    {
     "name": "stdout",
     "output_type": "stream",
     "text": [
      "           Country/Region Date (yyyy/mm/dd)  Confirmed cases  Death cases  \\\n",
      "424           Afghanistan        2021-03-21            56103         2463   \n",
      "849               Albania        2021-03-21           121200         2137   \n",
      "1274              Algeria        2021-03-21           116157         3057   \n",
      "1699              Andorra        2021-03-21            11517          113   \n",
      "2124               Angola        2021-03-21            21733          527   \n",
      "...                   ...               ...              ...          ...   \n",
      "81174             Vietnam        2021-03-21             2572           35   \n",
      "81599  West Bank and Gaza        2021-03-21           223638         2427   \n",
      "82024               Yemen        2021-03-21             3418          751   \n",
      "82449              Zambia        2021-03-21            86449         1179   \n",
      "82874            Zimbabwe        2021-03-21            36665         1512   \n",
      "\n",
      "       Recovered cases  active  recovery_rate  mortality_rate  \n",
      "424              49737    3903      88.653013        4.390140  \n",
      "849              85147   33916      70.253300        1.763201  \n",
      "1274             80659   32441      69.439638        2.631783  \n",
      "1699             10973     431      95.276548        0.981158  \n",
      "2124             20073    1133      92.361846        2.424884  \n",
      "...                ...     ...            ...             ...  \n",
      "81174             2198     339      85.458787        1.360809  \n",
      "81599           198431   22780      88.728660        1.085236  \n",
      "82024             1534    1133      44.880047       21.971913  \n",
      "82449            83258    2012      96.308806        1.363810  \n",
      "82874            34269     884      93.465158        4.123824  \n",
      "\n",
      "[195 rows x 8 columns]\n"
     ]
    }
   ],
   "source": [
    "# Code here:\n",
    "last_data = new_data.copy()\n",
    "last_data['recovery_rate'] = (last_data['Recovered cases'] / last_data['Confirmed cases']) * 100\n",
    "last_data['mortality_rate'] = (last_data['Death cases'] / last_data['Confirmed cases']) * 100\n",
    "print(last_data)"
   ]
  },
  {
   "cell_type": "markdown",
   "id": "74d2653e",
   "metadata": {
    "colab_type": "text",
    "id": "ehX789K6jt2w"
   },
   "source": [
    "![](https://media.giphy.com/media/rbaC8w0QY1vGw/giphy.gif)\n",
    "\n",
    "##### **POLYGRAPH TIME!!!**\n",
    "\n",
    "> ***BREAKING NEWS:***\n",
    "> \n",
    "> *Netherlands has the highest recovery percentage in the world!*\n",
    "\n",
    "\n",
    "##### **Q10.1. Is this a fake news?**"
   ]
  },
  {
   "cell_type": "code",
   "execution_count": 21,
   "id": "2ea536ea",
   "metadata": {
    "colab": {
     "base_uri": "https://localhost:8080/",
     "height": 204
    },
    "colab_type": "code",
    "executionInfo": {
     "elapsed": 3040,
     "status": "ok",
     "timestamp": 1587218946145,
     "user": {
      "displayName": "Nuno Reis",
      "photoUrl": "",
      "userId": "07361859627404914753"
     },
     "user_tz": -60
    },
    "id": "SVD-BL1xkvSi",
    "outputId": "c0d3a489-11a5-4e92-860e-37dea8a0a0f7",
    "scrolled": true
   },
   "outputs": [
    {
     "name": "stdout",
     "output_type": "stream",
     "text": [
      "             Country/Region Date (yyyy/mm/dd)  Confirmed cases  Death cases  \\\n",
      "49724            Micronesia        2021-03-21                1            0   \n",
      "48024      Marshall Islands        2021-03-21                4            0   \n",
      "8499                 Bhutan        2021-03-21              869            1   \n",
      "67149             Singapore        2021-03-21            60196           30   \n",
      "33574               Iceland        2021-03-21             6097           29   \n",
      "...                     ...               ...              ...          ...   \n",
      "72249                Sweden        2021-03-21           744272        13262   \n",
      "77349                    US        2021-03-21         29875211       542679   \n",
      "39099              Kiribati        2021-03-21                0            0   \n",
      "57374                 Palau        2021-03-21                0            0   \n",
      "71399  Summer Olympics 2020        2021-03-21                0            0   \n",
      "\n",
      "       Recovered cases    active  recovery_rate  mortality_rate  \n",
      "49724                1         0     100.000000        0.000000  \n",
      "48024                4         0     100.000000        0.000000  \n",
      "8499               867         1      99.769850        0.115075  \n",
      "67149            60038       128      99.737524        0.049837  \n",
      "33574             6033        35      98.950303        0.475644  \n",
      "...                ...       ...            ...             ...  \n",
      "72249                0    731010       0.000000        1.781875  \n",
      "77349                0  29332532       0.000000        1.816486  \n",
      "39099                0         0            NaN             NaN  \n",
      "57374                0         0            NaN             NaN  \n",
      "71399                0         0            NaN             NaN  \n",
      "\n",
      "[195 rows x 8 columns]\n"
     ]
    }
   ],
   "source": [
    "# Code here:\n",
    "sorted_data = last_data.sort_values(by='recovery_rate', ascending=False)\n",
    "print(sorted_data)"
   ]
  },
  {
   "cell_type": "markdown",
   "id": "d6c8e873",
   "metadata": {},
   "source": [
    "# Yes!"
   ]
  },
  {
   "cell_type": "markdown",
   "id": "c111e303",
   "metadata": {
    "colab_type": "text",
    "id": "O1NmoCMST_4Q"
   },
   "source": [
    "## Unit 3. Data analysis - GERMANY\n",
    "\n",
    "From now on, you will only analyse **Germany** that should be selected from the list below."
   ]
  },
  {
   "cell_type": "code",
   "execution_count": null,
   "id": "56e61a15",
   "metadata": {},
   "outputs": [],
   "source": []
  },
  {
   "cell_type": "markdown",
   "id": "17a27773",
   "metadata": {
    "colab_type": "text",
    "id": "lwJbowveVomV"
   },
   "source": [
    "#### **Q11. Get a dataset that contains only information regarding your country.**"
   ]
  },
  {
   "cell_type": "code",
   "execution_count": 22,
   "id": "73294265",
   "metadata": {
    "colab": {},
    "colab_type": "code",
    "id": "-3eK5rBHUsQk"
   },
   "outputs": [
    {
     "data": {
      "text/html": [
       "<div>\n",
       "<style scoped>\n",
       "    .dataframe tbody tr th:only-of-type {\n",
       "        vertical-align: middle;\n",
       "    }\n",
       "\n",
       "    .dataframe tbody tr th {\n",
       "        vertical-align: top;\n",
       "    }\n",
       "\n",
       "    .dataframe thead th {\n",
       "        text-align: right;\n",
       "    }\n",
       "</style>\n",
       "<table border=\"1\" class=\"dataframe\">\n",
       "  <thead>\n",
       "    <tr style=\"text-align: right;\">\n",
       "      <th></th>\n",
       "      <th>Country/Region</th>\n",
       "      <th>Date (yyyy/mm/dd)</th>\n",
       "      <th>Confirmed cases</th>\n",
       "      <th>Death cases</th>\n",
       "      <th>Recovered cases</th>\n",
       "      <th>active</th>\n",
       "    </tr>\n",
       "  </thead>\n",
       "  <tbody>\n",
       "    <tr>\n",
       "      <th>28050</th>\n",
       "      <td>Germany</td>\n",
       "      <td>2020-01-22</td>\n",
       "      <td>0</td>\n",
       "      <td>0</td>\n",
       "      <td>0</td>\n",
       "      <td>0</td>\n",
       "    </tr>\n",
       "    <tr>\n",
       "      <th>28051</th>\n",
       "      <td>Germany</td>\n",
       "      <td>2020-01-23</td>\n",
       "      <td>0</td>\n",
       "      <td>0</td>\n",
       "      <td>0</td>\n",
       "      <td>0</td>\n",
       "    </tr>\n",
       "    <tr>\n",
       "      <th>28052</th>\n",
       "      <td>Germany</td>\n",
       "      <td>2020-01-24</td>\n",
       "      <td>0</td>\n",
       "      <td>0</td>\n",
       "      <td>0</td>\n",
       "      <td>0</td>\n",
       "    </tr>\n",
       "    <tr>\n",
       "      <th>28053</th>\n",
       "      <td>Germany</td>\n",
       "      <td>2020-01-25</td>\n",
       "      <td>0</td>\n",
       "      <td>0</td>\n",
       "      <td>0</td>\n",
       "      <td>0</td>\n",
       "    </tr>\n",
       "    <tr>\n",
       "      <th>28054</th>\n",
       "      <td>Germany</td>\n",
       "      <td>2020-01-26</td>\n",
       "      <td>0</td>\n",
       "      <td>0</td>\n",
       "      <td>0</td>\n",
       "      <td>0</td>\n",
       "    </tr>\n",
       "    <tr>\n",
       "      <th>...</th>\n",
       "      <td>...</td>\n",
       "      <td>...</td>\n",
       "      <td>...</td>\n",
       "      <td>...</td>\n",
       "      <td>...</td>\n",
       "      <td>...</td>\n",
       "    </tr>\n",
       "    <tr>\n",
       "      <th>28470</th>\n",
       "      <td>Germany</td>\n",
       "      <td>2021-03-17</td>\n",
       "      <td>2610769</td>\n",
       "      <td>74043</td>\n",
       "      <td>2387743</td>\n",
       "      <td>148983</td>\n",
       "    </tr>\n",
       "    <tr>\n",
       "      <th>28471</th>\n",
       "      <td>Germany</td>\n",
       "      <td>2021-03-18</td>\n",
       "      <td>2639258</td>\n",
       "      <td>74402</td>\n",
       "      <td>2405600</td>\n",
       "      <td>159256</td>\n",
       "    </tr>\n",
       "    <tr>\n",
       "      <th>28472</th>\n",
       "      <td>Germany</td>\n",
       "      <td>2021-03-19</td>\n",
       "      <td>2654734</td>\n",
       "      <td>74608</td>\n",
       "      <td>2413584</td>\n",
       "      <td>166542</td>\n",
       "    </tr>\n",
       "    <tr>\n",
       "      <th>28473</th>\n",
       "      <td>Germany</td>\n",
       "      <td>2021-03-20</td>\n",
       "      <td>2669233</td>\n",
       "      <td>74706</td>\n",
       "      <td>2419292</td>\n",
       "      <td>175235</td>\n",
       "    </tr>\n",
       "    <tr>\n",
       "      <th>28474</th>\n",
       "      <td>Germany</td>\n",
       "      <td>2021-03-21</td>\n",
       "      <td>2670001</td>\n",
       "      <td>74756</td>\n",
       "      <td>2426700</td>\n",
       "      <td>168545</td>\n",
       "    </tr>\n",
       "  </tbody>\n",
       "</table>\n",
       "<p>425 rows × 6 columns</p>\n",
       "</div>"
      ],
      "text/plain": [
       "      Country/Region Date (yyyy/mm/dd)  Confirmed cases  Death cases  \\\n",
       "28050        Germany        2020-01-22                0            0   \n",
       "28051        Germany        2020-01-23                0            0   \n",
       "28052        Germany        2020-01-24                0            0   \n",
       "28053        Germany        2020-01-25                0            0   \n",
       "28054        Germany        2020-01-26                0            0   \n",
       "...              ...               ...              ...          ...   \n",
       "28470        Germany        2021-03-17          2610769        74043   \n",
       "28471        Germany        2021-03-18          2639258        74402   \n",
       "28472        Germany        2021-03-19          2654734        74608   \n",
       "28473        Germany        2021-03-20          2669233        74706   \n",
       "28474        Germany        2021-03-21          2670001        74756   \n",
       "\n",
       "       Recovered cases  active  \n",
       "28050                0       0  \n",
       "28051                0       0  \n",
       "28052                0       0  \n",
       "28053                0       0  \n",
       "28054                0       0  \n",
       "...                ...     ...  \n",
       "28470          2387743  148983  \n",
       "28471          2405600  159256  \n",
       "28472          2413584  166542  \n",
       "28473          2419292  175235  \n",
       "28474          2426700  168545  \n",
       "\n",
       "[425 rows x 6 columns]"
      ]
     },
     "execution_count": 22,
     "metadata": {},
     "output_type": "execute_result"
    }
   ],
   "source": [
    "# Code here:\n",
    "Germany_data = df[df['Country/Region'] == 'Germany']\n",
    "Germany_data"
   ]
  },
  {
   "cell_type": "markdown",
   "id": "c3e95c0e",
   "metadata": {
    "colab_type": "text",
    "id": "u1fzS1Qhc1F5"
   },
   "source": [
    "#### **Q12. Create a dataset that only contains information since the day that was registered the first case in your country. Tell us what is that day and how many cases were registered in that day?**"
   ]
  },
  {
   "cell_type": "code",
   "execution_count": 23,
   "id": "c9e51c9d",
   "metadata": {
    "colab": {
     "base_uri": "https://localhost:8080/",
     "height": 80
    },
    "colab_type": "code",
    "executionInfo": {
     "elapsed": 3012,
     "status": "ok",
     "timestamp": 1587218946149,
     "user": {
      "displayName": "Nuno Reis",
      "photoUrl": "",
      "userId": "07361859627404914753"
     },
     "user_tz": -60
    },
    "id": "0ea-WKaRdEzd",
    "outputId": "5803aa1e-6ea8-488b-ede2-c17a00999c98"
   },
   "outputs": [
    {
     "data": {
      "text/html": [
       "<div>\n",
       "<style scoped>\n",
       "    .dataframe tbody tr th:only-of-type {\n",
       "        vertical-align: middle;\n",
       "    }\n",
       "\n",
       "    .dataframe tbody tr th {\n",
       "        vertical-align: top;\n",
       "    }\n",
       "\n",
       "    .dataframe thead th {\n",
       "        text-align: right;\n",
       "    }\n",
       "</style>\n",
       "<table border=\"1\" class=\"dataframe\">\n",
       "  <thead>\n",
       "    <tr style=\"text-align: right;\">\n",
       "      <th></th>\n",
       "      <th>Country/Region</th>\n",
       "      <th>Date (yyyy/mm/dd)</th>\n",
       "      <th>Confirmed cases</th>\n",
       "      <th>Death cases</th>\n",
       "      <th>Recovered cases</th>\n",
       "      <th>active</th>\n",
       "    </tr>\n",
       "  </thead>\n",
       "  <tbody>\n",
       "    <tr>\n",
       "      <th>28055</th>\n",
       "      <td>Germany</td>\n",
       "      <td>2020-01-27</td>\n",
       "      <td>1</td>\n",
       "      <td>0</td>\n",
       "      <td>0</td>\n",
       "      <td>1</td>\n",
       "    </tr>\n",
       "    <tr>\n",
       "      <th>28056</th>\n",
       "      <td>Germany</td>\n",
       "      <td>2020-01-28</td>\n",
       "      <td>4</td>\n",
       "      <td>0</td>\n",
       "      <td>0</td>\n",
       "      <td>4</td>\n",
       "    </tr>\n",
       "    <tr>\n",
       "      <th>28057</th>\n",
       "      <td>Germany</td>\n",
       "      <td>2020-01-29</td>\n",
       "      <td>4</td>\n",
       "      <td>0</td>\n",
       "      <td>0</td>\n",
       "      <td>4</td>\n",
       "    </tr>\n",
       "    <tr>\n",
       "      <th>28058</th>\n",
       "      <td>Germany</td>\n",
       "      <td>2020-01-30</td>\n",
       "      <td>4</td>\n",
       "      <td>0</td>\n",
       "      <td>0</td>\n",
       "      <td>4</td>\n",
       "    </tr>\n",
       "    <tr>\n",
       "      <th>28059</th>\n",
       "      <td>Germany</td>\n",
       "      <td>2020-01-31</td>\n",
       "      <td>5</td>\n",
       "      <td>0</td>\n",
       "      <td>0</td>\n",
       "      <td>5</td>\n",
       "    </tr>\n",
       "    <tr>\n",
       "      <th>...</th>\n",
       "      <td>...</td>\n",
       "      <td>...</td>\n",
       "      <td>...</td>\n",
       "      <td>...</td>\n",
       "      <td>...</td>\n",
       "      <td>...</td>\n",
       "    </tr>\n",
       "    <tr>\n",
       "      <th>28470</th>\n",
       "      <td>Germany</td>\n",
       "      <td>2021-03-17</td>\n",
       "      <td>2610769</td>\n",
       "      <td>74043</td>\n",
       "      <td>2387743</td>\n",
       "      <td>148983</td>\n",
       "    </tr>\n",
       "    <tr>\n",
       "      <th>28471</th>\n",
       "      <td>Germany</td>\n",
       "      <td>2021-03-18</td>\n",
       "      <td>2639258</td>\n",
       "      <td>74402</td>\n",
       "      <td>2405600</td>\n",
       "      <td>159256</td>\n",
       "    </tr>\n",
       "    <tr>\n",
       "      <th>28472</th>\n",
       "      <td>Germany</td>\n",
       "      <td>2021-03-19</td>\n",
       "      <td>2654734</td>\n",
       "      <td>74608</td>\n",
       "      <td>2413584</td>\n",
       "      <td>166542</td>\n",
       "    </tr>\n",
       "    <tr>\n",
       "      <th>28473</th>\n",
       "      <td>Germany</td>\n",
       "      <td>2021-03-20</td>\n",
       "      <td>2669233</td>\n",
       "      <td>74706</td>\n",
       "      <td>2419292</td>\n",
       "      <td>175235</td>\n",
       "    </tr>\n",
       "    <tr>\n",
       "      <th>28474</th>\n",
       "      <td>Germany</td>\n",
       "      <td>2021-03-21</td>\n",
       "      <td>2670001</td>\n",
       "      <td>74756</td>\n",
       "      <td>2426700</td>\n",
       "      <td>168545</td>\n",
       "    </tr>\n",
       "  </tbody>\n",
       "</table>\n",
       "<p>420 rows × 6 columns</p>\n",
       "</div>"
      ],
      "text/plain": [
       "      Country/Region Date (yyyy/mm/dd)  Confirmed cases  Death cases  \\\n",
       "28055        Germany        2020-01-27                1            0   \n",
       "28056        Germany        2020-01-28                4            0   \n",
       "28057        Germany        2020-01-29                4            0   \n",
       "28058        Germany        2020-01-30                4            0   \n",
       "28059        Germany        2020-01-31                5            0   \n",
       "...              ...               ...              ...          ...   \n",
       "28470        Germany        2021-03-17          2610769        74043   \n",
       "28471        Germany        2021-03-18          2639258        74402   \n",
       "28472        Germany        2021-03-19          2654734        74608   \n",
       "28473        Germany        2021-03-20          2669233        74706   \n",
       "28474        Germany        2021-03-21          2670001        74756   \n",
       "\n",
       "       Recovered cases  active  \n",
       "28055                0       1  \n",
       "28056                0       4  \n",
       "28057                0       4  \n",
       "28058                0       4  \n",
       "28059                0       5  \n",
       "...                ...     ...  \n",
       "28470          2387743  148983  \n",
       "28471          2405600  159256  \n",
       "28472          2413584  166542  \n",
       "28473          2419292  175235  \n",
       "28474          2426700  168545  \n",
       "\n",
       "[420 rows x 6 columns]"
      ]
     },
     "execution_count": 23,
     "metadata": {},
     "output_type": "execute_result"
    }
   ],
   "source": [
    "# Code here:\n",
    "Germany_from_first_day = Germany_data[Germany_data['Confirmed cases'] > 0]\n",
    "Germany_from_first_day"
   ]
  },
  {
   "cell_type": "markdown",
   "id": "3b10b104",
   "metadata": {
    "colab_type": "text",
    "id": "TSMHiRWRf0w_"
   },
   "source": [
    "#### **Q13. Get a column with the confirmed cases in proportion to 1M of the population.**\n",
    "\n",
    "Consider that Germany population is 83783942."
   ]
  },
  {
   "cell_type": "code",
   "execution_count": 24,
   "id": "2d3f5a1c",
   "metadata": {
    "colab": {
     "base_uri": "https://localhost:8080/",
     "height": 204
    },
    "colab_type": "code",
    "executionInfo": {
     "elapsed": 3001,
     "status": "ok",
     "timestamp": 1587218946150,
     "user": {
      "displayName": "Nuno Reis",
      "photoUrl": "",
      "userId": "07361859627404914753"
     },
     "user_tz": -60
    },
    "id": "ZXnuKYjhPYZi",
    "outputId": "b2d27cbd-d538-4af8-818d-20852ea1a3b3"
   },
   "outputs": [
    {
     "name": "stderr",
     "output_type": "stream",
     "text": [
      "<ipython-input-24-a400d4dae31a>:2: SettingWithCopyWarning: \n",
      "A value is trying to be set on a copy of a slice from a DataFrame.\n",
      "Try using .loc[row_indexer,col_indexer] = value instead\n",
      "\n",
      "See the caveats in the documentation: https://pandas.pydata.org/pandas-docs/stable/user_guide/indexing.html#returning-a-view-versus-a-copy\n",
      "  Germany_from_first_day['confirmed per 1m'] = (Germany_from_first_day['Confirmed cases'] * (1000000 / 83783942))\n"
     ]
    },
    {
     "data": {
      "text/html": [
       "<div>\n",
       "<style scoped>\n",
       "    .dataframe tbody tr th:only-of-type {\n",
       "        vertical-align: middle;\n",
       "    }\n",
       "\n",
       "    .dataframe tbody tr th {\n",
       "        vertical-align: top;\n",
       "    }\n",
       "\n",
       "    .dataframe thead th {\n",
       "        text-align: right;\n",
       "    }\n",
       "</style>\n",
       "<table border=\"1\" class=\"dataframe\">\n",
       "  <thead>\n",
       "    <tr style=\"text-align: right;\">\n",
       "      <th></th>\n",
       "      <th>Country/Region</th>\n",
       "      <th>Date (yyyy/mm/dd)</th>\n",
       "      <th>Confirmed cases</th>\n",
       "      <th>Death cases</th>\n",
       "      <th>Recovered cases</th>\n",
       "      <th>active</th>\n",
       "      <th>confirmed per 1m</th>\n",
       "    </tr>\n",
       "  </thead>\n",
       "  <tbody>\n",
       "    <tr>\n",
       "      <th>28055</th>\n",
       "      <td>Germany</td>\n",
       "      <td>2020-01-27</td>\n",
       "      <td>1</td>\n",
       "      <td>0</td>\n",
       "      <td>0</td>\n",
       "      <td>1</td>\n",
       "      <td>0.011935</td>\n",
       "    </tr>\n",
       "    <tr>\n",
       "      <th>28056</th>\n",
       "      <td>Germany</td>\n",
       "      <td>2020-01-28</td>\n",
       "      <td>4</td>\n",
       "      <td>0</td>\n",
       "      <td>0</td>\n",
       "      <td>4</td>\n",
       "      <td>0.047742</td>\n",
       "    </tr>\n",
       "    <tr>\n",
       "      <th>28057</th>\n",
       "      <td>Germany</td>\n",
       "      <td>2020-01-29</td>\n",
       "      <td>4</td>\n",
       "      <td>0</td>\n",
       "      <td>0</td>\n",
       "      <td>4</td>\n",
       "      <td>0.047742</td>\n",
       "    </tr>\n",
       "    <tr>\n",
       "      <th>28058</th>\n",
       "      <td>Germany</td>\n",
       "      <td>2020-01-30</td>\n",
       "      <td>4</td>\n",
       "      <td>0</td>\n",
       "      <td>0</td>\n",
       "      <td>4</td>\n",
       "      <td>0.047742</td>\n",
       "    </tr>\n",
       "    <tr>\n",
       "      <th>28059</th>\n",
       "      <td>Germany</td>\n",
       "      <td>2020-01-31</td>\n",
       "      <td>5</td>\n",
       "      <td>0</td>\n",
       "      <td>0</td>\n",
       "      <td>5</td>\n",
       "      <td>0.059677</td>\n",
       "    </tr>\n",
       "    <tr>\n",
       "      <th>...</th>\n",
       "      <td>...</td>\n",
       "      <td>...</td>\n",
       "      <td>...</td>\n",
       "      <td>...</td>\n",
       "      <td>...</td>\n",
       "      <td>...</td>\n",
       "      <td>...</td>\n",
       "    </tr>\n",
       "    <tr>\n",
       "      <th>28470</th>\n",
       "      <td>Germany</td>\n",
       "      <td>2021-03-17</td>\n",
       "      <td>2610769</td>\n",
       "      <td>74043</td>\n",
       "      <td>2387743</td>\n",
       "      <td>148983</td>\n",
       "      <td>31160.732447</td>\n",
       "    </tr>\n",
       "    <tr>\n",
       "      <th>28471</th>\n",
       "      <td>Germany</td>\n",
       "      <td>2021-03-18</td>\n",
       "      <td>2639258</td>\n",
       "      <td>74402</td>\n",
       "      <td>2405600</td>\n",
       "      <td>159256</td>\n",
       "      <td>31500.761805</td>\n",
       "    </tr>\n",
       "    <tr>\n",
       "      <th>28472</th>\n",
       "      <td>Germany</td>\n",
       "      <td>2021-03-19</td>\n",
       "      <td>2654734</td>\n",
       "      <td>74608</td>\n",
       "      <td>2413584</td>\n",
       "      <td>166542</td>\n",
       "      <td>31685.475004</td>\n",
       "    </tr>\n",
       "    <tr>\n",
       "      <th>28473</th>\n",
       "      <td>Germany</td>\n",
       "      <td>2021-03-20</td>\n",
       "      <td>2669233</td>\n",
       "      <td>74706</td>\n",
       "      <td>2419292</td>\n",
       "      <td>175235</td>\n",
       "      <td>31858.527258</td>\n",
       "    </tr>\n",
       "    <tr>\n",
       "      <th>28474</th>\n",
       "      <td>Germany</td>\n",
       "      <td>2021-03-21</td>\n",
       "      <td>2670001</td>\n",
       "      <td>74756</td>\n",
       "      <td>2426700</td>\n",
       "      <td>168545</td>\n",
       "      <td>31867.693692</td>\n",
       "    </tr>\n",
       "  </tbody>\n",
       "</table>\n",
       "<p>420 rows × 7 columns</p>\n",
       "</div>"
      ],
      "text/plain": [
       "      Country/Region Date (yyyy/mm/dd)  Confirmed cases  Death cases  \\\n",
       "28055        Germany        2020-01-27                1            0   \n",
       "28056        Germany        2020-01-28                4            0   \n",
       "28057        Germany        2020-01-29                4            0   \n",
       "28058        Germany        2020-01-30                4            0   \n",
       "28059        Germany        2020-01-31                5            0   \n",
       "...              ...               ...              ...          ...   \n",
       "28470        Germany        2021-03-17          2610769        74043   \n",
       "28471        Germany        2021-03-18          2639258        74402   \n",
       "28472        Germany        2021-03-19          2654734        74608   \n",
       "28473        Germany        2021-03-20          2669233        74706   \n",
       "28474        Germany        2021-03-21          2670001        74756   \n",
       "\n",
       "       Recovered cases  active  confirmed per 1m  \n",
       "28055                0       1          0.011935  \n",
       "28056                0       4          0.047742  \n",
       "28057                0       4          0.047742  \n",
       "28058                0       4          0.047742  \n",
       "28059                0       5          0.059677  \n",
       "...                ...     ...               ...  \n",
       "28470          2387743  148983      31160.732447  \n",
       "28471          2405600  159256      31500.761805  \n",
       "28472          2413584  166542      31685.475004  \n",
       "28473          2419292  175235      31858.527258  \n",
       "28474          2426700  168545      31867.693692  \n",
       "\n",
       "[420 rows x 7 columns]"
      ]
     },
     "execution_count": 24,
     "metadata": {},
     "output_type": "execute_result"
    }
   ],
   "source": [
    "# Code here:\n",
    "Germany_from_first_day['confirmed per 1m'] = (Germany_from_first_day['Confirmed cases'] * (1000000 / 83783942))\n",
    "Germany_from_first_day"
   ]
  },
  {
   "cell_type": "markdown",
   "id": "7833bd0b",
   "metadata": {
    "colab_type": "text",
    "id": "apVqiLP0SZ4z"
   },
   "source": [
    "#### **Q14. Get a column that register the number of days since the first case was registered.**\n",
    "\n",
    "Hint: you might need to use the \".dt.days\" from the difference betweenn dates"
   ]
  },
  {
   "cell_type": "code",
   "execution_count": 25,
   "id": "0dc49271",
   "metadata": {},
   "outputs": [
    {
     "data": {
      "text/plain": [
       "Timestamp('2020-01-27 00:00:00')"
      ]
     },
     "execution_count": 25,
     "metadata": {},
     "output_type": "execute_result"
    }
   ],
   "source": [
    "Germany_from_first_day.loc[28055, 'Date (yyyy/mm/dd)']"
   ]
  },
  {
   "cell_type": "code",
   "execution_count": 26,
   "id": "68318f5e",
   "metadata": {
    "colab": {
     "base_uri": "https://localhost:8080/",
     "height": 204
    },
    "colab_type": "code",
    "executionInfo": {
     "elapsed": 2990,
     "status": "ok",
     "timestamp": 1587218946151,
     "user": {
      "displayName": "Nuno Reis",
      "photoUrl": "",
      "userId": "07361859627404914753"
     },
     "user_tz": -60
    },
    "id": "wm2ywJOgS9li",
    "outputId": "9714cba8-e89f-452f-aff1-e8fbd4b10a20"
   },
   "outputs": [
    {
     "name": "stdout",
     "output_type": "stream",
     "text": [
      "      Country/Region Date (yyyy/mm/dd)  Confirmed cases  Death cases  \\\n",
      "28055        Germany        2020-01-27                1            0   \n",
      "28056        Germany        2020-01-28                4            0   \n",
      "28057        Germany        2020-01-29                4            0   \n",
      "28058        Germany        2020-01-30                4            0   \n",
      "28059        Germany        2020-01-31                5            0   \n",
      "...              ...               ...              ...          ...   \n",
      "28470        Germany        2021-03-17          2610769        74043   \n",
      "28471        Germany        2021-03-18          2639258        74402   \n",
      "28472        Germany        2021-03-19          2654734        74608   \n",
      "28473        Germany        2021-03-20          2669233        74706   \n",
      "28474        Germany        2021-03-21          2670001        74756   \n",
      "\n",
      "       Recovered cases  active  confirmed per 1m  days_since_first_case  \n",
      "28055                0       1          0.011935                      0  \n",
      "28056                0       4          0.047742                      1  \n",
      "28057                0       4          0.047742                      2  \n",
      "28058                0       4          0.047742                      3  \n",
      "28059                0       5          0.059677                      4  \n",
      "...                ...     ...               ...                    ...  \n",
      "28470          2387743  148983      31160.732447                    415  \n",
      "28471          2405600  159256      31500.761805                    416  \n",
      "28472          2413584  166542      31685.475004                    417  \n",
      "28473          2419292  175235      31858.527258                    418  \n",
      "28474          2426700  168545      31867.693692                    419  \n",
      "\n",
      "[420 rows x 8 columns]\n"
     ]
    },
    {
     "name": "stderr",
     "output_type": "stream",
     "text": [
      "<ipython-input-26-aac1bf564490>:3: SettingWithCopyWarning: \n",
      "A value is trying to be set on a copy of a slice from a DataFrame.\n",
      "Try using .loc[row_indexer,col_indexer] = value instead\n",
      "\n",
      "See the caveats in the documentation: https://pandas.pydata.org/pandas-docs/stable/user_guide/indexing.html#returning-a-view-versus-a-copy\n",
      "  Germany_from_first_day['days_since_first_case'] = (Germany_from_first_day['Date (yyyy/mm/dd)'] - first_date).dt.days\n"
     ]
    }
   ],
   "source": [
    "# Code here:\n",
    "first_date = Germany_from_first_day.loc[28055, 'Date (yyyy/mm/dd)']\n",
    "Germany_from_first_day['days_since_first_case'] = (Germany_from_first_day['Date (yyyy/mm/dd)'] - first_date).dt.days\n",
    "print(Germany_from_first_day)\n"
   ]
  },
  {
   "cell_type": "markdown",
   "id": "55e7b426",
   "metadata": {
    "colab_type": "text",
    "id": "Wzj3yb4cuY8H"
   },
   "source": [
    "![showtime](https://media.giphy.com/media/fxqt51CAMGITJlxcRI/giphy.gif)\n",
    "\n",
    "***IT'S SHOOOOOOW TIME***\n",
    "\n",
    "#### **Q15. Plot the cruve with evolution of confirmed cases per 1M of population since the 1st case for your country**\n",
    "\n",
    "Make sure you define a title and the x and y labels"
   ]
  },
  {
   "cell_type": "code",
   "execution_count": 27,
   "id": "784025fd",
   "metadata": {
    "colab": {
     "base_uri": "https://localhost:8080/",
     "height": 295
    },
    "colab_type": "code",
    "executionInfo": {
     "elapsed": 3336,
     "status": "ok",
     "timestamp": 1587218946512,
     "user": {
      "displayName": "Nuno Reis",
      "photoUrl": "",
      "userId": "07361859627404914753"
     },
     "user_tz": -60
    },
    "id": "rVyzxnyZuk2l",
    "outputId": "a0cd2f2c-b225-4c50-ebdf-9f589dbb08c4"
   },
   "outputs": [
    {
     "data": {
      "text/plain": [
       "Text(0.5, 1.0, 'Evolution of Confirmed Cases per 1M Population in Germany')"
      ]
     },
     "execution_count": 27,
     "metadata": {},
     "output_type": "execute_result"
    },
    {
     "data": {
      "image/png": "[encoded data removed]",
      "text/plain": [
       "<Figure size 432x288 with 1 Axes>"
      ]
     },
     "metadata": {
      "needs_background": "light"
     },
     "output_type": "display_data"
    }
   ],
   "source": [
    "# Code here:\n",
    "plt.figure\n",
    "plt.plot(Germany_from_first_day['Date (yyyy/mm/dd)'],\n",
    "         Germany_from_first_day['confirmed per 1m'])\n",
    "plt.xlabel('Date')\n",
    "plt.ylabel('Confirmed Cases per 1M Population')\n",
    "plt.title(f'Evolution of Confirmed Cases per 1M Population in Germany')"
   ]
  },
  {
   "cell_type": "markdown",
   "id": "d9ae962b",
   "metadata": {
    "colab_type": "text",
    "id": "4SkTJNq_q2mJ"
   },
   "source": [
    "#### Q16. Export the final germany dataset without the column of \"death cases\" to a csv file"
   ]
  },
  {
   "cell_type": "code",
   "execution_count": 28,
   "id": "d5176ba5",
   "metadata": {},
   "outputs": [],
   "source": [
    "# Code here:\n",
    "Germany_data_final = Germany_from_first_day.drop(columns=['Death cases'])\n",
    "\n",
    "csv_file_path = 'germany_data_final.csv'\n",
    "\n",
    "Germany_data_final.to_csv(csv_file_path, index=False)"
   ]
  },
  {
   "cell_type": "markdown",
   "id": "17d65b21",
   "metadata": {},
   "source": [
    "**EXTRA: Q17. Plot the curve with evolution of confirmed cases per 1M of population since the 1st case for multiple countries and compare its evolution**\n",
    "\n",
    "Consider the following countries and respective population values"
   ]
  },
  {
   "cell_type": "code",
   "execution_count": 29,
   "id": "c598b7c3",
   "metadata": {},
   "outputs": [],
   "source": [
    "population = {'US': 331002651,'Spain': 46754778,'Italy': 60461826,'Portugal': 10196709,\n",
    "                'United Kingdom': 67886011,'Germany': 83783942,'Norway': 5421241,\n",
    "                'Belgium': 11589623,'Netherlands': 17134872,'Sweden': 10086360}"
   ]
  },
  {
   "cell_type": "code",
   "execution_count": 30,
   "id": "587c90bb",
   "metadata": {},
   "outputs": [
    {
     "data": {
      "text/plain": [
       "['US',\n",
       " 'Spain',\n",
       " 'Italy',\n",
       " 'Portugal',\n",
       " 'United Kingdom',\n",
       " 'Germany',\n",
       " 'Norway',\n",
       " 'Belgium',\n",
       " 'Netherlands',\n",
       " 'Sweden']"
      ]
     },
     "execution_count": 30,
     "metadata": {},
     "output_type": "execute_result"
    }
   ],
   "source": [
    "countries = list(population)\n",
    "countries"
   ]
  },
  {
   "cell_type": "code",
   "execution_count": 31,
   "id": "d371d0e5",
   "metadata": {},
   "outputs": [],
   "source": [
    "selected_countries_data = pd.DataFrame()\n",
    "\n",
    "for country in countries:\n",
    "    country_data = df[df['Country/Region'] == country].copy()\n",
    "    country_data['confirmed_per_million'] = (country_data['Confirmed cases'] / population[country]) * 1000000\n",
    "    country_data = country_data[country_data['confirmed_per_million'] > 0]\n",
    "    selected_countries_data = selected_countries_data.append(country_data)"
   ]
  },
  {
   "cell_type": "code",
   "execution_count": 32,
   "id": "ee1240dc",
   "metadata": {},
   "outputs": [
    {
     "data": {
      "text/plain": [
       "<matplotlib.legend.Legend at 0x20f00fad9a0>"
      ]
     },
     "execution_count": 32,
     "metadata": {},
     "output_type": "execute_result"
    },
    {
     "data": {
      "image/png": "[encoded data removed]",
      "text/plain": [
       "<Figure size 432x288 with 1 Axes>"
      ]
     },
     "metadata": {
      "needs_background": "light"
     },
     "output_type": "display_data"
    }
   ],
   "source": [
    "for country in countries:\n",
    "    country_data = selected_countries_data[selected_countries_data['Country/Region'] == country]\n",
    "    plt.plot(country_data['Date (yyyy/mm/dd)'], country_data['confirmed_per_million'], label=country)\n",
    "\n",
    "plt.xlabel('Date')\n",
    "plt.ylabel('Confirmed Cases per 1M')\n",
    "plt.title('Evolution of Cases per 1M')\n",
    "plt.legend()"
   ]
  },
  {
   "cell_type": "code",
   "execution_count": null,
   "id": "92cd03fe",
   "metadata": {},
   "outputs": [],
   "source": []
  },
  {
   "cell_type": "code",
   "execution_count": null,
   "id": "e2c66de5",
   "metadata": {},
   "outputs": [],
   "source": []
  },
  {
   "cell_type": "markdown",
   "id": "3c3187ae",
   "metadata": {
    "colab_type": "text",
    "id": "bvjuHP2Ugozg"
   },
   "source": [
    "## The end!\n",
    "\n",
    "![](https://media.giphy.com/media/lD76yTC5zxZPG/giphy.gif)"
   ]
  }
 ],
 "metadata": {
  "kernelspec": {
   "display_name": "Python 3",
   "language": "python",
   "name": "python3"
  },
  "language_info": {
   "codemirror_mode": {
    "name": "ipython",
    "version": 3
   },
   "file_extension": ".py",
   "mimetype": "text/x-python",
   "name": "python",
   "nbconvert_exporter": "python",
   "pygments_lexer": "ipython3",
   "version": "3.8.8"
  }
 },
 "nbformat": 4,
 "nbformat_minor": 5
}
