{
 "cells": [
  {
   "cell_type": "markdown",
   "metadata": {},
   "source": [
    "# Exercicios"
   ]
  },
  {
   "cell_type": "markdown",
   "metadata": {},
   "source": [
    "Define a function that receives 3 numbers and return their sum. Test it!"
   ]
  },
  {
   "cell_type": "code",
   "execution_count": 1,
   "metadata": {},
   "outputs": [
    {
     "data": {
      "text/plain": [
       "60"
      ]
     },
     "execution_count": 1,
     "metadata": {},
     "output_type": "execute_result"
    }
   ],
   "source": [
    "def sum_all(a, b, c):\n",
    "    return a + b + c\n",
    "\n",
    "sum_all(1,56,3)"
   ]
  },
  {
   "cell_type": "markdown",
   "metadata": {},
   "source": [
    "Write a function called “power” that implements the following mathematical function:\n",
    "\n",
    "f(a,b) = a^b\n",
    "\n",
    "(Hint: power in python is done using \"**\")"
   ]
  },
  {
   "cell_type": "code",
   "execution_count": 2,
   "metadata": {},
   "outputs": [
    {
     "data": {
      "text/plain": [
       "8"
      ]
     },
     "execution_count": 2,
     "metadata": {},
     "output_type": "execute_result"
    }
   ],
   "source": [
    "def power(a,b):\n",
    "    return a**b\n",
    "\n",
    "power(2,3)"
   ]
  },
  {
   "cell_type": "markdown",
   "metadata": {},
   "source": [
    "Write a function that takes two parameters (variables) and returns whether or not they are equal. Remember to choose a good name!"
   ]
  },
  {
   "cell_type": "code",
   "execution_count": 3,
   "metadata": {},
   "outputs": [
    {
     "data": {
      "text/plain": [
       "False"
      ]
     },
     "execution_count": 3,
     "metadata": {},
     "output_type": "execute_result"
    }
   ],
   "source": [
    "def are_equal(a,b):\n",
    "    return a == b\n",
    "\n",
    "are_equal(2,'ola')"
   ]
  },
  {
   "cell_type": "markdown",
   "metadata": {},
   "source": [
    "Write a function that takes three arguments:\n",
    "\n",
    "- A string with your name\n",
    "- A number with your year of birth\n",
    "- A boolean for the variable is_male\n",
    "    - This should be true in case you are a male and false in case you are a female\n",
    "\n",
    "It should print a sentence saying **“Men are the best! My name is 'name', I have 'years' old”** in case is_male is True and **“Women are the best! My name is 'name', I have 'years' old”** otherwise."
   ]
  },
  {
   "cell_type": "code",
   "execution_count": 4,
   "metadata": {},
   "outputs": [],
   "source": [
    "def gender(name, year, is_male):\n",
    "    age = 2019 - year\n",
    "    if is_male:\n",
    "        print('Men are the best! My name is {}, I am {} years old'.format(name,age))\n",
    "    else:\n",
    "        print('Women are the best! My name is {}, I am {} years old'.format(name,age))"
   ]
  },
  {
   "cell_type": "code",
   "execution_count": 5,
   "metadata": {},
   "outputs": [
    {
     "name": "stdout",
     "output_type": "stream",
     "text": [
      "Men are the best! My name is Nuno, I am 29 years old\n"
     ]
    }
   ],
   "source": [
    "gender('Nuno', 1990, True)"
   ]
  },
  {
   "cell_type": "markdown",
   "metadata": {},
   "source": [
    "Regarding the last exercise, add an extra feature: in both cases (male or female), it should return the age of the person as well."
   ]
  },
  {
   "cell_type": "code",
   "execution_count": 6,
   "metadata": {},
   "outputs": [],
   "source": [
    "def gender(name, year, is_male):\n",
    "    age = 2019 - year\n",
    "    if is_male:\n",
    "        print('Men are the best! My name is {}, I am {} years old'.format(name,age))\n",
    "    else:\n",
    "        print('Women are the best! My name is {}, I am {} years old'.format(name,age))\n",
    "    \n",
    "    return age"
   ]
  },
  {
   "cell_type": "code",
   "execution_count": 7,
   "metadata": {
    "scrolled": true
   },
   "outputs": [
    {
     "name": "stdout",
     "output_type": "stream",
     "text": [
      "Men are the best! My name is Nuno, I am 29 years old\n"
     ]
    },
    {
     "data": {
      "text/plain": [
       "29"
      ]
     },
     "execution_count": 7,
     "metadata": {},
     "output_type": "execute_result"
    }
   ],
   "source": [
    "gender('Nuno', 1990, True)"
   ]
  }
 ],
 "metadata": {
  "kernelspec": {
   "display_name": "Python 3",
   "language": "python",
   "name": "python3"
  },
  "language_info": {
   "codemirror_mode": {
    "name": "ipython",
    "version": 3
   },
   "file_extension": ".py",
   "mimetype": "text/x-python",
   "name": "python",
   "nbconvert_exporter": "python",
   "pygments_lexer": "ipython3",
   "version": "3.8.8"
  }
 },
 "nbformat": 4,
 "nbformat_minor": 4
}
