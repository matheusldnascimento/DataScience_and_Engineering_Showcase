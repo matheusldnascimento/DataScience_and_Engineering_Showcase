{
 "cells": [
  {
   "cell_type": "markdown",
   "metadata": {},
   "source": [
    "# Live code - Functions 🚀"
   ]
  },
  {
   "cell_type": "markdown",
   "metadata": {},
   "source": [
    "The goal of this exercise is to create a function that receives the list `floor_location_list`\n",
    "\n",
    "```python\n",
    "floor_location_list = [\n",
    "    \"Floor 1 - Lisbon, Benfica\",\n",
    "    \"Floor 5 - Porto, Sé\",\n",
    "    \"Floor 2 - Coimbra, Centro\",\n",
    "    \"Floor 1 - Braga, Centro\",\n",
    "    \"Floor 12 - Lisbon, Areeiro\",\n",
    "    \"Floor 3 - Lisbon\",\n",
    "    \"Floor 15 - Coimbra\",\n",
    "    \"Floor 3 - Porto, São Bento\",\n",
    "    \"Floor 4 - Braga\",\n",
    "    \"Floor Base - Lisbon\"\n",
    "]\n",
    "```\n",
    "\n",
    "and returns a new list `floor_location_lists`\n",
    "\n",
    "\n",
    "```python\n",
    "floor_location_list_lists = [\n",
    "    [1, 'Lisbon, Benfica'],\n",
    "    [5, 'Porto, Sé'],\n",
    "    [2, 'Coimbra, Centro'],\n",
    "    [1, 'Braga, Centro'],\n",
    "    [12, 'Lisbon, Areeiro'],\n",
    "    [3, 'Lisbon'],\n",
    "    [15, 'Coimbra'],\n",
    "    [3, 'Porto, São Bento'],\n",
    "    [4, 'Braga'],\n",
    "    [0, 'Lisbon']\n",
    "]\n",
    "```"
   ]
  },
  {
   "cell_type": "markdown",
   "metadata": {},
   "source": [
    "a) Create a function that separates each string into a list where the first element has the floor information (like \"Floor 4) and second element has the location (like \"Lisbon, Areeiro\") "
   ]
  },
  {
   "cell_type": "code",
   "execution_count": 2,
   "metadata": {},
   "outputs": [
    {
     "data": {
      "text/plain": [
       "['Floor 12', 'Lisbon, Areeiro']"
      ]
     },
     "execution_count": 2,
     "metadata": {},
     "output_type": "execute_result"
    }
   ],
   "source": [
    "# \"Floor 12 - Lisbon, Areeiro\" -> ['Floor 12', 'Lisbon, Areeiro']\n",
    "\n",
    "def split_string(string):\n",
    "    return string.split(' - ')\n",
    "\n",
    "split_string(\"Floor 12 - Lisbon, Areeiro\")"
   ]
  },
  {
   "cell_type": "markdown",
   "metadata": {},
   "source": [
    "b) Now, create a function that should transform the floor info into the floor number.\n",
    "\n",
    "\n",
    "* Example `\"Floor 1\"` should become `1`"
   ]
  },
  {
   "cell_type": "code",
   "execution_count": 14,
   "metadata": {},
   "outputs": [
    {
     "data": {
      "text/plain": [
       "'1'"
      ]
     },
     "execution_count": 14,
     "metadata": {},
     "output_type": "execute_result"
    }
   ],
   "source": [
    "def get_floor_number(string):\n",
    "    return string.split()[1]\n",
    "\n",
    "get_floor_number(\"Floor 1\")"
   ]
  },
  {
   "cell_type": "markdown",
   "metadata": {},
   "source": [
    "c) reach the final goal of the exercise, using the functions previously created"
   ]
  },
  {
   "cell_type": "code",
   "execution_count": 7,
   "metadata": {},
   "outputs": [],
   "source": [
    "floor_location_list = [\n",
    "    \"Floor 1 - Lisbon, Benfica\",\n",
    "    \"Floor 5 - Porto, Sé\",\n",
    "    \"Floor 2 - Coimbra, Centro\",\n",
    "    \"Floor 1 - Braga, Centro\",\n",
    "    \"Floor 12 - Lisbon, Areeiro\",\n",
    "    \"Floor 3 - Lisbon\",\n",
    "    \"Floor 15 - Coimbra\",\n",
    "    \"Floor 3 - Porto, São Bento\",\n",
    "    \"Floor 4 - Braga\",\n",
    "    \"Floor Base - Lisbon\"\n",
    "]"
   ]
  },
  {
   "cell_type": "code",
   "execution_count": 19,
   "metadata": {},
   "outputs": [],
   "source": [
    "def clean_floor_location(floor_location_list):\n",
    "    \n",
    "    floor_location_cleaned = []\n",
    "\n",
    "    for string in floor_location_list:\n",
    "        elemento_lista = split_string(string)\n",
    "        floor = get_floor_number(elemento_lista[0])\n",
    "\n",
    "        if floor == 'Base':\n",
    "            floor_number = 0\n",
    "        else:\n",
    "            floor_number = int(floor)\n",
    "\n",
    "        elemento_lista[0] = floor_number\n",
    "\n",
    "        floor_location_cleaned.append(elemento_lista)\n",
    "\n",
    "    return floor_location_cleaned"
   ]
  },
  {
   "cell_type": "code",
   "execution_count": 20,
   "metadata": {},
   "outputs": [
    {
     "data": {
      "text/plain": [
       "[[1, 'Lisbon, Benfica'],\n",
       " [5, 'Porto, Sé'],\n",
       " [2, 'Coimbra, Centro'],\n",
       " [1, 'Braga, Centro'],\n",
       " [12, 'Lisbon, Areeiro'],\n",
       " [3, 'Lisbon'],\n",
       " [15, 'Coimbra'],\n",
       " [3, 'Porto, São Bento'],\n",
       " [4, 'Braga'],\n",
       " [0, 'Lisbon']]"
      ]
     },
     "execution_count": 20,
     "metadata": {},
     "output_type": "execute_result"
    }
   ],
   "source": [
    "clean_floor_location(floor_location_list)"
   ]
  }
 ],
 "metadata": {
  "kernelspec": {
   "display_name": "Python 3",
   "language": "python",
   "name": "python3"
  },
  "language_info": {
   "codemirror_mode": {
    "name": "ipython",
    "version": 3
   },
   "file_extension": ".py",
   "mimetype": "text/x-python",
   "name": "python",
   "nbconvert_exporter": "python",
   "pygments_lexer": "ipython3",
   "version": "3.8.8"
  }
 },
 "nbformat": 4,
 "nbformat_minor": 4
}
